{
 "cells": [
  {
   "cell_type": "markdown",
   "metadata": {},
   "source": [
    "# 对numpy矩阵的保存和读取"
   ]
  },
  {
   "cell_type": "code",
   "execution_count": 3,
   "metadata": {
    "collapsed": false
   },
   "outputs": [
    {
     "name": "stdout",
     "output_type": "stream",
     "text": [
      "(10000, 160, 160)\n"
     ]
    }
   ],
   "source": [
    "import numpy as np\n",
    "\n",
    "# 点云地图点数\n",
    "point_size = 160\n",
    "# 训练集大小 暂设 10000\n",
    "train_size = 10000\n",
    "# 最低深度\n",
    "min_depth = -5 \n",
    "# 最高深度\n",
    "max_depth = 10\n",
    "\n",
    "np_save = np.random.randint(min_depth, max_depth, (train_size,point_size,point_size))\n",
    "print(np_save.shape)\n",
    "\n",
    "# np.save(\"test_x\",np_save)\n"
   ]
  },
  {
   "cell_type": "markdown",
   "metadata": {},
   "source": [
    "## 参数设置 \n",
    "生成（10000，32，32）的tile_map(训练集)"
   ]
  },
  {
   "cell_type": "code",
   "execution_count": 4,
   "metadata": {},
   "outputs": [
    {
     "name": "stdout",
     "output_type": "stream",
     "text": [
      "38807\n"
     ]
    }
   ],
   "source": [
    "import numpy as np\n",
    "\n",
    "# 任务深度\n",
    "task_depth = 6\n",
    "# 单元格 长和宽\n",
    "cell_x = 5\n",
    "cell_y = 5\n",
    "# tile 索引\n",
    "index_x = 0\n",
    "index_y = 0\n",
    "# 将实际地图信息转化为0，1二进制信息\n",
    "tile_space = np.where(np_save > task_depth,1,0)\n",
    "# np.sum(tile_space[0:cell_x,0:cell_y])\n",
    "tile_grid = np.zeros([train_size ,int(point_size/cell_x),int(point_size/cell_y)],dtype = int)\n",
    "summ = 0\n",
    "# 将tile_grid按照一定规则转换\n",
    "for t in range(0,train_size):\n",
    "    for i in range(0,len(tile_grid[0])):\n",
    "        for j in range(0,len(tile_grid[1])):\n",
    "            tile_grid[t,i,j] = 1 if np.sum(tile_space[t,i * cell_x:i * cell_x + cell_x,j * cell_y:j*cell_y+cell_y]) > 0 else 0 \n",
    "            if tile_grid[t,i,j] == 0:\n",
    "                summ = summ + 1\n",
    "np.save(\"test_x\",tile_grid)\n",
    "print(summ)"
   ]
  },
  {
   "cell_type": "markdown",
   "metadata": {},
   "source": [
    "## TEM的label"
   ]
  },
  {
   "cell_type": "code",
   "execution_count": 5,
   "metadata": {},
   "outputs": [
    {
     "name": "stdout",
     "output_type": "stream",
     "text": [
      "6129\n",
      "(10000, 32, 32)\n",
      "[[0 0 0 ... 0 0 1]\n",
      " [0 0 0 ... 0 0 1]\n",
      " [0 0 0 ... 0 0 1]\n",
      " ...\n",
      " [0 0 0 ... 0 1 1]\n",
      " [0 0 0 ... 0 1 1]\n",
      " [0 0 0 ... 0 1 1]]\n",
      "[0, 4, 0, 4, 0]\n",
      "[[0, 0, 0, 0, 0, 0, 0, 0], [0, 0, 0, 0, 0, 0, 0, 0], [0, 0, 0, 0, 0, 0, 0, 4], [0, 0, 0, 0, 0, 0, 4, 0], [0, 0, 0, 0, 0, 4, 0, 4]]\n"
     ]
    }
   ],
   "source": [
    "# 输出动作 [挖掘，上，下，左，右]\n",
    "\n",
    "import numpy as np\n",
    "\"\"\"\n",
    "action_space_exc = [1,0,0,0,0]\n",
    "action_space_up = [0,1,0,0,0]\n",
    "action_space_down = [0,0,1,0,0]\n",
    "action_space_left = [0,0,0,1,0]\n",
    "action_space_right = [0,0,0,0,1]\n",
    "\"\"\"\n",
    "action_space_exc = 0\n",
    "action_space_up = 1\n",
    "action_space_down = 2\n",
    "action_space_left = 3\n",
    "action_space_right = 4\n",
    "\n",
    "# 读取tile_grid\n",
    "tile_grid = np.load('test_x.npy')\n",
    "# 下一个动作标签\n",
    "action_list_space = []\n",
    "# 历史动作\n",
    "history_action_list = []\n",
    "chopped_map = tile_grid.copy()\n",
    "#建立一个numpy shape(n,32,32)\n",
    "chopped_map1 = np.ones((10000,32,32),dtype=int)\n",
    "# TEM测试集\n",
    "index_chop = 0\n",
    "length_x = len(chopped_map[0])\n",
    "length_y = len(chopped_map[1])\n",
    "for i in range(0,train_size):\n",
    "    index_x = 0\n",
    "    index_y = 0\n",
    "    action_list = []\n",
    "    direct_bool = True\n",
    "    while index_x < len(chopped_map[0]) and index_y < len(chopped_map[1]):\n",
    "        if chopped_map[i,index_x,index_y] != 0:\n",
    "            # 追加历史动作\n",
    "            history_action_list.append(action_list[:])\n",
    "            # 将动作加入动作标签\n",
    "            action_list_space.append(action_space_exc)\n",
    "            # 将地图加入chopped\n",
    "            chopped_map1[index_chop] = chopped_map[i]\n",
    "            index_chop = index_chop + 1\n",
    "            # 将此坐标点化为 0\n",
    "            chopped_map[i,index_x,index_y] = 0\n",
    "            action_list.append(action_space_exc)\n",
    "\n",
    "        if direct_bool:\n",
    "            if index_x < length_y - 1:\n",
    "                # 追加历史动作\n",
    "                history_action_list.append(action_list[:])\n",
    "                # 将动作加入动作标签\n",
    "                action_list_space.append(action_space_right)\n",
    "                # 将地图加入chopped\n",
    "                chopped_map1[index_chop] = chopped_map[i]\n",
    "                index_chop = index_chop + 1\n",
    "\n",
    "                action_list.append(action_space_right)\n",
    "                index_x = index_x + 1\n",
    "            else:\n",
    "                # 追加历史动作\n",
    "                history_action_list.append(action_list[:])\n",
    "                # 将动作加入动作标签\n",
    "                action_list_space.append(action_space_down)\n",
    "                # 将地图加入chopped\n",
    "                chopped_map1[index_chop] = chopped_map[i]\n",
    "                index_chop = index_chop + 1\n",
    "\n",
    "                action_list.append(action_space_down)\n",
    "                index_y = index_y + 1\n",
    "                direct_bool = bool(1-direct_bool)\n",
    "        else:\n",
    "            if index_x > 0:\n",
    "\n",
    "                # 追加历史动作\n",
    "                history_action_list.append(action_list[:])\n",
    "                # 将动作加入动作标签\n",
    "                action_list_space.append(action_space_left)\n",
    "                # 将地图加入chopped\n",
    "                chopped_map1[index_chop] = chopped_map[i]\n",
    "                index_chop = index_chop + 1\n",
    "\n",
    "                action_list.append(action_space_left)\n",
    "                index_x = index_x - 1\n",
    "            else:\n",
    "\n",
    "                # 追加历史动作\n",
    "                history_action_list.append(action_list[:])\n",
    "                # 将动作加入动作标签\n",
    "                action_list_space.append(action_space_down)\n",
    "                # 将地图加入chopped\n",
    "                chopped_map1[index_chop] = chopped_map[i]\n",
    "                index_chop = index_chop + 1\n",
    "\n",
    "                action_list.append(action_space_down)\n",
    "                index_y = index_y + 1\n",
    "                direct_bool = bool(1-direct_bool)\n",
    "    if i == 2:\n",
    "        break\n",
    "print(len(history_action_list))\n",
    "print(chopped_map.shape)\n",
    "print(chopped_map1[4000,:,:])\n",
    "# print(history_action_list)\n",
    "for i in range(len(history_action_list)):\n",
    "    history_action_list[i] = history_action_list[i][-8:]\n",
    "    if len(history_action_list[i]) < 8:\n",
    "        history_action_list[i] = (8 - len(history_action_list[i])) * [0] + history_action_list[i]\n",
    "    \n",
    "print(action_list_space[:5])\n",
    "print(history_action_list[:5])\n",
    "# print(chopped_map[:5])\n",
    "\n"
   ]
  },
  {
   "cell_type": "code",
   "execution_count": 23,
   "metadata": {},
   "outputs": [],
   "source": [
    "import torch\n",
    "import torch.nn as nn\n",
    "\n",
    "\n",
    "\n",
    "class CNN(nn.Module):\n",
    "    def __init__(self):\n",
    "        super(CNN, self).__init__()\n",
    "        self.conv1 = nn.Sequential(  # input shape (1, 32, 32)\n",
    "            nn.Conv2d(\n",
    "                in_channels=1,      # input height\n",
    "                out_channels=16,    # n_filters\n",
    "                kernel_size=3,      # filter size\n",
    "                stride=1,           # filter movement/step\n",
    "                padding=1,      # 如果想要 con2d 出来的图片长宽没有变化, padding=(kernel_size-1)/2 当 stride=1\n",
    "            ),      # output shape (16, 28, 28)\n",
    "            nn.ReLU(),    # activation\n",
    "            nn.MaxPool2d(kernel_size=2),    # 在 2x2 空间里向下采样, output shape (16, 14, 14)\n",
    "        )\n",
    "        self.conv2 = nn.Sequential(  # input shape (16, 14, 14)\n",
    "            nn.Conv2d(16, 32, 3, 1, 1),  # output shape (32, 14, 14)\n",
    "            nn.ReLU(),  # activation\n",
    "            nn.MaxPool2d(kernel_size=2),  # output shape (32, 7, 7)\n",
    "        )\n",
    "        self.out1 = nn.Linear(2056, 128)   # fully connected layer, output 10 classes\n",
    "        self.out = nn.Linear(128, 128)\n",
    "        self.test = nn.Linear(128,5)\n",
    "\n",
    "    def forward(self, x,y):\n",
    "        x = self.conv1(x)\n",
    "        # print(x.shape)\n",
    "        x = self.conv2(x)\n",
    "        x = x.view(x.size(0), -1)   # 展平多维的卷积图成 (batch_size, 32 * 7 * 7)\n",
    "        #拼接步骤\n",
    "        \n",
    "        # print(x.shape)\n",
    "        # print(y.shape)\n",
    "        x = torch.cat([x,y],1)\n",
    "        \n",
    "        output = self.out1(x)\n",
    "        output = self.out(output)\n",
    "        output = self.test(output)\n",
    "        return output\n",
    "\n"
   ]
  },
  {
   "cell_type": "code",
   "execution_count": 38,
   "metadata": {},
   "outputs": [
    {
     "data": {
      "text/plain": "<Figure size 640x480 with 1 Axes>",
      "image/png": "[encoded data removed]"
     },
     "metadata": {},
     "output_type": "display_data"
    }
   ],
   "source": [
    "import matplotlib.pyplot as plt\n",
    "EPOCH = 100\n",
    "LR = 0.001          # 学习率\n",
    "\n",
    "cnn = CNN()\n",
    "\n",
    "optimizer = torch.optim.Adam(cnn.parameters(), lr=LR)   # optimize all cnn parameters\n",
    "loss_func = nn.CrossEntropyLoss()   # the target label is not one-hotted\n",
    "\n",
    "s_ = np.expand_dims(chopped_map1[:6000], axis=1)\n",
    "torch_data = torch.Tensor(s_)\n",
    "\n",
    "# print(cnn(torch_data))\n",
    "\n",
    "b_y = torch.LongTensor(history_action_list)\n",
    "\n",
    "test_y = torch.LongTensor(action_list_space)\n",
    "\n",
    "bacht_size = 20\n",
    "losses = []\n",
    "for epoch in range(EPOCH):\n",
    "    for step in range(0,2040,bacht_size):   # 分配 batch data, normalize x when iterate train_loader\n",
    "        output = cnn(torch_data[step:step+bacht_size],b_y[step:step+bacht_size])               # cnn output\n",
    "        loss = loss_func(output, test_y[step:step+bacht_size])   # cross entropy loss\n",
    "        optimizer.zero_grad()           # clear gradients for this training step\n",
    "        loss.backward()                 # backpropagation, compute gradients\n",
    "        optimizer.step()                # apply gradients\n",
    "        if step % 100 == 0:\n",
    "            losses.append(loss.item())\n",
    "plt.plot(range(1000), losses[0:1000])\n",
    "plt.xlabel('steps')\n",
    "plt.ylabel('Loss')\n",
    "plt.show()"
   ]
  },
  {
   "cell_type": "code",
   "execution_count": 14,
   "metadata": {},
   "outputs": [
    {
     "ename": "RuntimeError",
     "evalue": "cannot reshape tensor of 0 elements into shape [0, -1] because the unspecified dimension size -1 can be any value and is ambiguous",
     "output_type": "error",
     "traceback": [
      "\u001B[0;31m---------------------------------------------------------------------------\u001B[0m",
      "\u001B[0;31mRuntimeError\u001B[0m                              Traceback (most recent call last)",
      "Input \u001B[0;32mIn [14]\u001B[0m, in \u001B[0;36m<cell line: 5>\u001B[0;34m()\u001B[0m\n\u001B[1;32m      3\u001B[0m index_re \u001B[38;5;241m=\u001B[39m \u001B[38;5;241m20\u001B[39m\n\u001B[1;32m      4\u001B[0m start_i \u001B[38;5;241m=\u001B[39m \u001B[38;5;241m3000\u001B[39m\n\u001B[0;32m----> 5\u001B[0m test_output \u001B[38;5;241m=\u001B[39m \u001B[43mcnn\u001B[49m\u001B[43m(\u001B[49m\u001B[43mtorch_data\u001B[49m\u001B[43m[\u001B[49m\u001B[43mstart_i\u001B[49m\u001B[43m:\u001B[49m\u001B[43mstart_i\u001B[49m\u001B[38;5;241;43m+\u001B[39;49m\u001B[43mindex_re\u001B[49m\u001B[43m]\u001B[49m\u001B[43m,\u001B[49m\u001B[43mb_y\u001B[49m\u001B[43m[\u001B[49m\u001B[43mstart_i\u001B[49m\u001B[43m:\u001B[49m\u001B[43mstart_i\u001B[49m\u001B[38;5;241;43m+\u001B[39;49m\u001B[43mindex_re\u001B[49m\u001B[43m]\u001B[49m\u001B[43m)\u001B[49m\n\u001B[1;32m      6\u001B[0m \u001B[38;5;28mprint\u001B[39m(test_output\u001B[38;5;241m.\u001B[39mshape)\n\u001B[1;32m      7\u001B[0m \u001B[38;5;66;03m# 输出一维最大值 纵坐标\u001B[39;00m\n",
      "File \u001B[0;32m~/opt/anaconda3/envs/py38/lib/python3.8/site-packages/torch/nn/modules/module.py:1130\u001B[0m, in \u001B[0;36mModule._call_impl\u001B[0;34m(self, *input, **kwargs)\u001B[0m\n\u001B[1;32m   1126\u001B[0m \u001B[38;5;66;03m# If we don't have any hooks, we want to skip the rest of the logic in\u001B[39;00m\n\u001B[1;32m   1127\u001B[0m \u001B[38;5;66;03m# this function, and just call forward.\u001B[39;00m\n\u001B[1;32m   1128\u001B[0m \u001B[38;5;28;01mif\u001B[39;00m \u001B[38;5;129;01mnot\u001B[39;00m (\u001B[38;5;28mself\u001B[39m\u001B[38;5;241m.\u001B[39m_backward_hooks \u001B[38;5;129;01mor\u001B[39;00m \u001B[38;5;28mself\u001B[39m\u001B[38;5;241m.\u001B[39m_forward_hooks \u001B[38;5;129;01mor\u001B[39;00m \u001B[38;5;28mself\u001B[39m\u001B[38;5;241m.\u001B[39m_forward_pre_hooks \u001B[38;5;129;01mor\u001B[39;00m _global_backward_hooks\n\u001B[1;32m   1129\u001B[0m         \u001B[38;5;129;01mor\u001B[39;00m _global_forward_hooks \u001B[38;5;129;01mor\u001B[39;00m _global_forward_pre_hooks):\n\u001B[0;32m-> 1130\u001B[0m     \u001B[38;5;28;01mreturn\u001B[39;00m \u001B[43mforward_call\u001B[49m\u001B[43m(\u001B[49m\u001B[38;5;241;43m*\u001B[39;49m\u001B[38;5;28;43minput\u001B[39;49m\u001B[43m,\u001B[49m\u001B[43m \u001B[49m\u001B[38;5;241;43m*\u001B[39;49m\u001B[38;5;241;43m*\u001B[39;49m\u001B[43mkwargs\u001B[49m\u001B[43m)\u001B[49m\n\u001B[1;32m   1131\u001B[0m \u001B[38;5;66;03m# Do not call functions when jit is used\u001B[39;00m\n\u001B[1;32m   1132\u001B[0m full_backward_hooks, non_full_backward_hooks \u001B[38;5;241m=\u001B[39m [], []\n",
      "Input \u001B[0;32mIn [10]\u001B[0m, in \u001B[0;36mCNN.forward\u001B[0;34m(self, x, y)\u001B[0m\n\u001B[1;32m     32\u001B[0m x \u001B[38;5;241m=\u001B[39m \u001B[38;5;28mself\u001B[39m\u001B[38;5;241m.\u001B[39mconv1(x)\n\u001B[1;32m     33\u001B[0m x \u001B[38;5;241m=\u001B[39m \u001B[38;5;28mself\u001B[39m\u001B[38;5;241m.\u001B[39mconv2(x)\n\u001B[0;32m---> 34\u001B[0m x \u001B[38;5;241m=\u001B[39m \u001B[43mx\u001B[49m\u001B[38;5;241;43m.\u001B[39;49m\u001B[43mview\u001B[49m\u001B[43m(\u001B[49m\u001B[43mx\u001B[49m\u001B[38;5;241;43m.\u001B[39;49m\u001B[43msize\u001B[49m\u001B[43m(\u001B[49m\u001B[38;5;241;43m0\u001B[39;49m\u001B[43m)\u001B[49m\u001B[43m,\u001B[49m\u001B[43m \u001B[49m\u001B[38;5;241;43m-\u001B[39;49m\u001B[38;5;241;43m1\u001B[39;49m\u001B[43m)\u001B[49m   \u001B[38;5;66;03m# 展平多维的卷积图成 (batch_size, 32 * 7 * 7)\u001B[39;00m\n\u001B[1;32m     35\u001B[0m \u001B[38;5;66;03m#拼接步骤\u001B[39;00m\n\u001B[1;32m     36\u001B[0m \n\u001B[1;32m     37\u001B[0m \u001B[38;5;66;03m# print(x.shape)\u001B[39;00m\n\u001B[1;32m     38\u001B[0m \u001B[38;5;66;03m# print(y.shape)\u001B[39;00m\n\u001B[1;32m     39\u001B[0m x \u001B[38;5;241m=\u001B[39m torch\u001B[38;5;241m.\u001B[39mcat([x,y],\u001B[38;5;241m1\u001B[39m)\n",
      "\u001B[0;31mRuntimeError\u001B[0m: cannot reshape tensor of 0 elements into shape [0, -1] because the unspecified dimension size -1 can be any value and is ambiguous"
     ]
    }
   ],
   "source": [
    "from symbol import term\n",
    "\n",
    "index_re = 20\n",
    "start_i = 3000\n",
    "\n",
    "test_output = cnn(torch_data[start_i:start_i+index_re],b_y[start_i:start_i+index_re])\n",
    "print(test_output.shape)\n",
    "# 输出一维最大值 纵坐标\n",
    "pred_y = torch.max(test_output, 1)[1].data.numpy().squeeze()\n",
    "print(pred_y, 'prediction number')\n",
    "print(test_y[start_i:start_i+index_re].numpy())"
   ]
  },
  {
   "cell_type": "code",
   "execution_count": null,
   "metadata": {
    "collapsed": false
   },
   "outputs": [],
   "source": [
    "goal = [\n",
    "    # 在点云数据中需挖掘的区域\n",
    "    [0,0],[0,160],[160,0],[160,160],\n",
    "    # 挖掘任务深度\n",
    "    [-5]\n",
    "]"
   ]
  }
 ],
 "metadata": {
  "kernelspec": {
   "display_name": "Python 3.8.13 ('py38')",
   "language": "python",
   "name": "python3"
  },
  "language_info": {
   "codemirror_mode": {
    "name": "ipython",
    "version": 3
   },
   "file_extension": ".py",
   "mimetype": "text/x-python",
   "name": "python",
   "nbconvert_exporter": "python",
   "pygments_lexer": "ipython3",
   "version": "3.8.13"
  },
  "vscode": {
   "interpreter": {
    "hash": "43103ebe49f20780c0555c255a4ff1c6773ce139c9c7300782dfd117b1d10422"
   }
  }
 },
 "nbformat": 4,
 "nbformat_minor": 0
}
