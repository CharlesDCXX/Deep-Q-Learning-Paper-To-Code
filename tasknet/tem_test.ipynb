{
 "cells": [
  {
   "cell_type": "markdown",
   "metadata": {},
   "source": [
    "# 对numpy矩阵的保存和读取"
   ]
  },
  {
   "cell_type": "code",
   "execution_count": 13,
   "metadata": {
    "collapsed": false
   },
   "outputs": [],
   "source": [
    "import numpy as np\n",
    "\n",
    "# 点云地图点数\n",
    "point_size = 160\n",
    "# 训练集大小 暂设 100\n",
    "train_size = 100\n",
    "# 最低深度\n",
    "min_depth = -5 \n",
    "# 最高深度\n",
    "max_depth = 10\n",
    "np_save = np.ones((train_size,point_size,point_size))\n",
    "for i in range(0,train_size):\n",
    "    # 生成随机地图\n",
    "    np_save[i,:,:] = np.random.randint(min_depth, max_depth, (point_size,point_size))\n",
    "\n",
    "# np.save(\"test_x\",np_save)\n",
    "goal = [\n",
    "    [0,0],[0,50],[50,0],[50,50],\n",
    "    [4]\n",
    "    ]\n",
    "goal1 = [\n",
    "    [0,0],[0,2],[2,0],[2,2],\n",
    "    [4]\n",
    "]"
   ]
  },
  {
   "cell_type": "markdown",
   "metadata": {},
   "source": [
    "### 另一种保存的方式\n",
    "j = np.array([1, 5, 8])\n",
    "k = np.array([11, 31, 9])\n",
    "l = np.array([67, 40, 23])\n",
    " 用默认key值\n",
    "np.savez(\"arr3\",  j, k, l)\n",
    " 要写出完整的文件名，包括后缀\n",
    "arr3 = np.load(\"arr3.npz\")\n",
    "print(arr3.files)\n",
    "print(arr3[\"arr_0\"])\n"
   ]
  },
  {
   "cell_type": "markdown",
   "metadata": {},
   "source": [
    "## 读取"
   ]
  },
  {
   "cell_type": "code",
   "execution_count": 14,
   "metadata": {
    "tags": [
     "test"
    ]
   },
   "outputs": [
    {
     "name": "stdout",
     "output_type": "stream",
     "text": [
      "(100, 160, 160)\n"
     ]
    }
   ],
   "source": [
    "train_x = np.load(\"test_x.npy\")\n",
    "print(train_x.shape)"
   ]
  },
  {
   "cell_type": "markdown",
   "metadata": {},
   "source": [
    "## 参数设置 \n",
    "生成（100，32，32）的tile_map(训练集)"
   ]
  },
  {
   "cell_type": "code",
   "execution_count": 50,
   "metadata": {},
   "outputs": [
    {
     "name": "stdout",
     "output_type": "stream",
     "text": [
      "426\n"
     ]
    }
   ],
   "source": [
    "import numpy as np\n",
    "\n",
    "# 任务深度\n",
    "task_depth = 6\n",
    "# 单元格 长和宽\n",
    "cell_x = 5\n",
    "cell_y = 5\n",
    "# tile 索引\n",
    "index_x = 0\n",
    "index_y = 0\n",
    "# 将实际地图信息转化为0，1二进制信息\n",
    "tile_space = np.where(np_save > task_depth,1,0)\n",
    "# np.sum(tile_space[0:cell_x,0:cell_y])\n",
    "tile_grid = np.zeros([train_size ,int(point_size/cell_x),int(point_size/cell_y)],dtype = int)\n",
    "summ = 0\n",
    "# 将tile_grid按照一定规则转换\n",
    "for t in range(0,train_size):\n",
    "    for i in range(0,len(tile_grid[0])):\n",
    "        for j in range(0,len(tile_grid[1])):\n",
    "            tile_grid[t,i,j] = 1 if np.sum(tile_space[t,i * cell_x:i * cell_x + cell_x,j * cell_y:j*cell_y+cell_y]) > 0 else 0 \n",
    "            if tile_grid[t,i,j] == 0:\n",
    "                summ = summ + 1\n",
    "np.save(\"test_x\",tile_grid)\n",
    "print(summ)"
   ]
  },
  {
   "cell_type": "code",
   "execution_count": null,
   "metadata": {},
   "outputs": [],
   "source": [
    "# 输出动作 [挖掘，上，下，左，右]\n",
    "import copy\n",
    "\n",
    "\n",
    "action_space_exc = [1,0,0,0,0]\n",
    "action_space_up = [0,1,0,0,0]\n",
    "action_space_down = [0,0,1,0,0]\n",
    "action_space_left = [0,0,0,1,0]\n",
    "action_space_right = [0,0,0,0,1]\n",
    "action_list_space = []\n",
    "\n",
    "length_x = len(tile_grid[0])\n",
    "length_y = len(tile_grid[1])\n",
    "\n",
    "# TEM测试集\n",
    "for i in range(0,train_size):\n",
    "    index_x = 0\n",
    "    index_y = 0\n",
    "    action_list = []\n",
    "    direct_bool = True\n",
    "    while index_x < len(tile_grid[0]) and index_y < len(tile_grid[1]):\n",
    "        if tile_grid[i,index_x,index_y] != 0:\n",
    "            action_list.append(action_space_exc)\n",
    "        if direct_bool:\n",
    "            if index_x < length_y - 1:\n",
    "                action_list.append(action_space_right)\n",
    "                index_x = index_x + 1\n",
    "            else:\n",
    "                action_list.append(action_space_down)\n",
    "                index_y = index_y + 1\n",
    "                direct_bool = bool(1-direct_bool)\n",
    "        else:\n",
    "            if index_x > 0:\n",
    "                action_list.append(action_space_left)\n",
    "                index_x = index_x - 1\n",
    "            else:\n",
    "                action_list.append(action_space_down)\n",
    "                index_y = index_y + 1\n",
    "                direct_bool = bool(1-direct_bool)\n",
    "    action_list_space.append(copy.deepcopy(action_list))\n",
    "\n",
    "print(action_list_space[0])"
   ]
  },
  {
   "cell_type": "markdown",
   "metadata": {},
   "source": [
    "## 下面是CEM的测试集"
   ]
  }
 ],
 "metadata": {
  "kernelspec": {
   "display_name": "Python 3.8.13 ('py38')",
   "language": "python",
   "name": "python3"
  },
  "language_info": {
   "codemirror_mode": {
    "name": "ipython",
    "version": 3
   },
   "file_extension": ".py",
   "mimetype": "text/x-python",
   "name": "python",
   "nbconvert_exporter": "python",
   "pygments_lexer": "ipython3",
   "version": "3.8.13"
  },
  "vscode": {
   "interpreter": {
    "hash": "43103ebe49f20780c0555c255a4ff1c6773ce139c9c7300782dfd117b1d10422"
   }
  }
 },
 "nbformat": 4,
 "nbformat_minor": 0
}
