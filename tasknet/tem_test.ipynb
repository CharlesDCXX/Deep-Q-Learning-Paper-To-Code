{
 "cells": [
  {
   "cell_type": "markdown",
   "metadata": {},
   "source": [
    "# 对numpy矩阵的保存和读取"
   ]
  },
  {
   "cell_type": "code",
   "execution_count": 2,
   "metadata": {
    "collapsed": false
   },
   "outputs": [],
   "source": [
    "import numpy as np\n",
    "\n",
    "# 点云地图点数\n",
    "point_size = 160\n",
    "# 训练集大小 暂设 10000\n",
    "train_size = 10000\n",
    "# 最低深度\n",
    "min_depth = -5 \n",
    "# 最高深度\n",
    "max_depth = 10\n",
    "np_save = np.ones((train_size,point_size,point_size),dtype = int)\n",
    "for i in range(0,train_size):\n",
    "    # 生成随机地图\n",
    "    np_save[i,:,:] = np.random.randint(min_depth, max_depth, (point_size,point_size))\n",
    "\n",
    "# np.save(\"test_x\",np_save)\n",
    "goal = [\n",
    "    [0,0],[0,50],[50,0],[50,50],\n",
    "    [4]\n",
    "    ]\n",
    "goal1 = [\n",
    "    [0,0],[0,2],[2,0],[2,2],\n",
    "    [4]\n",
    "]"
   ]
  },
  {
   "cell_type": "markdown",
   "metadata": {},
   "source": [
    "### 另一种保存的方式\n",
    "j = np.array([1, 5, 8])\n",
    "k = np.array([11, 31, 9])\n",
    "l = np.array([67, 40, 23])\n",
    " 用默认key值\n",
    "np.savez(\"arr3\",  j, k, l)\n",
    " 要写出完整的文件名，包括后缀\n",
    "arr3 = np.load(\"arr3.npz\")\n",
    "print(arr3.files)\n",
    "print(arr3[\"arr_0\"])\n"
   ]
  },
  {
   "cell_type": "markdown",
   "metadata": {},
   "source": [
    "## 读取"
   ]
  },
  {
   "cell_type": "code",
   "execution_count": 3,
   "metadata": {
    "tags": [
     "test"
    ]
   },
   "outputs": [
    {
     "name": "stdout",
     "output_type": "stream",
     "text": [
      "(10000, 32, 32)\n"
     ]
    }
   ],
   "source": [
    "train_x = np.load(\"test_x.npy\")\n",
    "print(train_x.shape)"
   ]
  },
  {
   "cell_type": "markdown",
   "metadata": {},
   "source": [
    "## 参数设置 \n",
    "生成（10000，32，32）的tile_map(训练集)"
   ]
  },
  {
   "cell_type": "code",
   "execution_count": 4,
   "metadata": {},
   "outputs": [
    {
     "name": "stdout",
     "output_type": "stream",
     "text": [
      "38697\n"
     ]
    }
   ],
   "source": [
    "import numpy as np\n",
    "\n",
    "# 任务深度\n",
    "task_depth = 6\n",
    "# 单元格 长和宽\n",
    "cell_x = 5\n",
    "cell_y = 5\n",
    "# tile 索引\n",
    "index_x = 0\n",
    "index_y = 0\n",
    "# 将实际地图信息转化为0，1二进制信息\n",
    "tile_space = np.where(np_save > task_depth,1,0)\n",
    "# np.sum(tile_space[0:cell_x,0:cell_y])\n",
    "tile_grid = np.zeros([train_size ,int(point_size/cell_x),int(point_size/cell_y)],dtype = int)\n",
    "summ = 0\n",
    "# 将tile_grid按照一定规则转换\n",
    "for t in range(0,train_size):\n",
    "    for i in range(0,len(tile_grid[0])):\n",
    "        for j in range(0,len(tile_grid[1])):\n",
    "            tile_grid[t,i,j] = 1 if np.sum(tile_space[t,i * cell_x:i * cell_x + cell_x,j * cell_y:j*cell_y+cell_y]) > 0 else 0 \n",
    "            if tile_grid[t,i,j] == 0:\n",
    "                summ = summ + 1\n",
    "np.save(\"test_x\",tile_grid)\n",
    "print(summ)"
   ]
  },
  {
   "cell_type": "markdown",
   "metadata": {},
   "source": [
    "## TEM的label"
   ]
  },
  {
   "cell_type": "code",
   "execution_count": 5,
   "metadata": {},
   "outputs": [],
   "source": [
    "# 输出动作 [挖掘，上，下，左，右]\n",
    "import copy\n",
    "\n",
    "\n",
    "action_space_exc = [1,0,0,0,0]\n",
    "action_space_up = [0,1,0,0,0]\n",
    "action_space_down = [0,0,1,0,0]\n",
    "action_space_left = [0,0,0,1,0]\n",
    "action_space_right = [0,0,0,0,1]\n",
    "action_list_space = []\n",
    "\n",
    "length_x = len(tile_grid[0])\n",
    "length_y = len(tile_grid[1])\n",
    "\n",
    "# TEM测试集\n",
    "for i in range(0,train_size):\n",
    "    index_x = 0\n",
    "    index_y = 0\n",
    "    action_list = []\n",
    "    direct_bool = True\n",
    "    while index_x < len(tile_grid[0]) and index_y < len(tile_grid[1]):\n",
    "        if tile_grid[i,index_x,index_y] != 0:\n",
    "            action_list.append(action_space_exc)\n",
    "        if direct_bool:\n",
    "            if index_x < length_y - 1:\n",
    "                action_list.append(action_space_right)\n",
    "                index_x = index_x + 1\n",
    "            else:\n",
    "                action_list.append(action_space_down)\n",
    "                index_y = index_y + 1\n",
    "                direct_bool = bool(1-direct_bool)\n",
    "        else:\n",
    "            if index_x > 0:\n",
    "                action_list.append(action_space_left)\n",
    "                index_x = index_x - 1\n",
    "            else:\n",
    "                action_list.append(action_space_down)\n",
    "                index_y = index_y + 1\n",
    "                direct_bool = bool(1-direct_bool)\n",
    "    action_list_space.append(copy.deepcopy(action_list))\n"
   ]
  },
  {
   "cell_type": "code",
   "execution_count": 6,
   "metadata": {},
   "outputs": [
    {
     "name": "stdout",
     "output_type": "stream",
     "text": [
      "2044\n",
      "(32, 32)\n",
      "(20000, 32, 32)\n",
      "[[0, 0, 0, 0, 0, 0, 0, 0], [0, 0, 0, 0, 0, 0, 0, 1], [0, 0, 0, 0, 0, 0, 1, 5], [0, 0, 0, 0, 0, 1, 5, 1], [0, 0, 0, 0, 1, 5, 1, 5]]\n"
     ]
    }
   ],
   "source": [
    "# 输出动作 [挖掘，上，下，左，右]\n",
    "import copy\n",
    "import numpy as np\n",
    "\n",
    "action_space_exc = 1\n",
    "action_space_up = 2\n",
    "action_space_down = 3\n",
    "action_space_left = 4\n",
    "action_space_right = 5\n",
    "\n",
    "# 读取tile_grid\n",
    "tile_grid = np.load('test_x.npy')\n",
    "# 下一个动作标签\n",
    "action_list_space = []\n",
    "# 历史动作\n",
    "history_action_list = []\n",
    "chopped_map = tile_grid[0].copy()\n",
    "#建立一个numpy shape(n,32,32)\n",
    "chopped_map1 = np.ones((20000,32,32),dtype=int)\n",
    "# TEM测试集\n",
    "index_chop = 0\n",
    "length_x = len(chopped_map)\n",
    "length_y = len(chopped_map[0])\n",
    "for i in range(0,train_size):\n",
    "    index_x = 0\n",
    "    index_y = 0\n",
    "    action_list = []\n",
    "    direct_bool = True\n",
    "    while index_x < len(chopped_map) and index_y < len(chopped_map[0]):\n",
    "        if chopped_map[index_x,index_y] != 0:\n",
    "            # 追加历史动作\n",
    "            history_action_list.append(action_list[:])\n",
    "            # 将动作加入动作标签\n",
    "            action_list_space.append(action_space_exc)\n",
    "            # 将地图加入chopped\n",
    "            chopped_map1[index_chop] = chopped_map\n",
    "            index_chop = index_chop + 1\n",
    "            # 将此坐标点化为 0\n",
    "            chopped_map[index_x,index_y] = 0\n",
    "            action_list.append(action_space_exc)\n",
    "            \n",
    "\n",
    "        if direct_bool:\n",
    "            if index_x < length_y - 1:\n",
    "                # 追加历史动作\n",
    "                history_action_list.append(action_list[:])\n",
    "                # 将动作加入动作标签\n",
    "                action_list_space.append(action_space_right)\n",
    "                # 将地图加入chopped\n",
    "                chopped_map1[index_chop] = chopped_map\n",
    "                index_chop = index_chop + 1\n",
    "\n",
    "                action_list.append(action_space_right)\n",
    "                index_x = index_x + 1\n",
    "            else:\n",
    "                # 追加历史动作\n",
    "                history_action_list.append(action_list[:])\n",
    "                # 将动作加入动作标签\n",
    "                action_list_space.append(action_space_down)\n",
    "                # 将地图加入chopped\n",
    "                chopped_map1[index_chop] = chopped_map\n",
    "                index_chop = index_chop + 1\n",
    "\n",
    "                action_list.append(action_space_down)\n",
    "                index_y = index_y + 1\n",
    "                direct_bool = bool(1-direct_bool)\n",
    "        else:\n",
    "            if index_x > 0:\n",
    "\n",
    "                # 追加历史动作\n",
    "                history_action_list.append(action_list[:])\n",
    "                # 将动作加入动作标签\n",
    "                action_list_space.append(action_space_left)\n",
    "                # 将地图加入chopped\n",
    "                chopped_map1[index_chop] = chopped_map\n",
    "                index_chop = index_chop + 1\n",
    "\n",
    "                action_list.append(action_space_left)\n",
    "                index_x = index_x - 1\n",
    "            else:\n",
    "\n",
    "                # 追加历史动作\n",
    "                history_action_list.append(action_list[:])\n",
    "                # 将动作加入动作标签\n",
    "                action_list_space.append(action_space_down)\n",
    "                # 将地图加入chopped\n",
    "                chopped_map1[index_chop] = chopped_map\n",
    "                index_chop = index_chop + 1\n",
    "\n",
    "                action_list.append(action_space_down)\n",
    "                index_y = index_y + 1\n",
    "                direct_bool = bool(1-direct_bool)\n",
    "    break\n",
    "print(len(history_action_list))\n",
    "print(chopped_map.shape)\n",
    "print(chopped_map1.shape)\n",
    "# print(history_action_list)\n",
    "for i in range(len(history_action_list)):\n",
    "    history_action_list[i] = history_action_list[i][-8:]\n",
    "    if len(history_action_list[i]) < 8:\n",
    "        history_action_list[i] = (8 - len(history_action_list[i])) * [0] + history_action_list[i]\n",
    "    \n",
    "# print(action_list_space)\n",
    "print(history_action_list[:5])\n",
    "# print(chopped_map[:5])\n",
    "\n"
   ]
  },
  {
   "cell_type": "code",
   "execution_count": 7,
   "metadata": {},
   "outputs": [],
   "source": [
    "import torch\n",
    "import torch.nn as nn\n",
    "import torch.utils.data as Data\n",
    "import torchvision      # 数据库模块\n",
    "import matplotlib.pyplot as plt\n",
    "\n",
    "\n",
    "class CNN(nn.Module):\n",
    "    def __init__(self):\n",
    "        super(CNN, self).__init__()\n",
    "        self.conv1 = nn.Sequential(  # input shape (1, 32, 32)\n",
    "            nn.Conv2d(\n",
    "                in_channels=1,      # input height\n",
    "                out_channels=16,    # n_filters\n",
    "                kernel_size=3,      # filter size\n",
    "                stride=1,           # filter movement/step\n",
    "                padding=1,      # 如果想要 con2d 出来的图片长宽没有变化, padding=(kernel_size-1)/2 当 stride=1\n",
    "            ),      # output shape (16, 28, 28)\n",
    "            nn.ReLU(),    # activation\n",
    "            nn.MaxPool2d(kernel_size=2),    # 在 2x2 空间里向下采样, output shape (16, 14, 14)\n",
    "        )\n",
    "        self.conv2 = nn.Sequential(  # input shape (16, 14, 14)\n",
    "            nn.Conv2d(16, 32, 3, 1, 1),  # output shape (32, 14, 14)\n",
    "            nn.ReLU(),  # activation\n",
    "            nn.MaxPool2d(kernel_size=2),  # output shape (32, 7, 7)\n",
    "        )\n",
    "        self.out1 = nn.Linear(2056, 128)   # fully connected layer, output 10 classes\n",
    "        self.out = nn.Linear(128, 128)\n",
    "        self.test = nn.Linear(128,5)\n",
    "\n",
    "    def forward(self, x,y):\n",
    "        x = self.conv1(x)\n",
    "        x = self.conv2(x)\n",
    "        x = x.view(x.size(0), -1)   # 展平多维的卷积图成 (batch_size, 32 * 7 * 7)\n",
    "        #拼接步骤\n",
    "        \n",
    "        # print(x.shape)\n",
    "        # print(y.shape)\n",
    "        x = torch.cat([x,y],1)\n",
    "        # print(x.shape)\n",
    "        output = self.out1(x)\n",
    "        output = self.out(output)\n",
    "        output = self.test(output)\n",
    "\n",
    "        return x\n",
    "\n"
   ]
  },
  {
   "cell_type": "code",
   "execution_count": 8,
   "metadata": {},
   "outputs": [
    {
     "name": "stdout",
     "output_type": "stream",
     "text": [
      "torch.Size([2044])\n"
     ]
    }
   ],
   "source": [
    "\n",
    "EPOCH = 1000\n",
    "LR = 0.001          # 学习率\n",
    "\n",
    "cnn = CNN()\n",
    "\n",
    "optimizer = torch.optim.Adam(cnn.parameters(), lr=LR)   # optimize all cnn parameters\n",
    "loss_func = nn.CrossEntropyLoss()   # the target label is not one-hotted\n",
    "\n",
    "s_ = np.expand_dims(chopped_map1[:2040], axis=1)\n",
    "torch_data = torch.Tensor(s_)\n",
    "\n",
    "# print(cnn(torch_data))\n",
    "\n",
    "b_y = torch.LongTensor(history_action_list)\n",
    "\n",
    "test_y = torch.LongTensor(action_list_space)\n",
    "print(test_y.shape)\n",
    "for epoch in range(EPOCH):\n",
    "    for step in range(0,2040,5):   # 分配 batch data, normalize x when iterate train_loader\n",
    "        output = cnn(torch_data[step:step+5],b_y[step:step+5])               # cnn output\n",
    "        loss = loss_func(output, test_y[step:step+5])   # cross entropy loss\n",
    "        optimizer.zero_grad()           # clear gradients for this training step\n",
    "        loss.backward()                 # backpropagation, compute gradients\n",
    "        optimizer.step()                # apply gradients\n"
   ]
  },
  {
   "cell_type": "code",
   "execution_count": null,
   "metadata": {},
   "outputs": [
    {
     "name": "stdout",
     "output_type": "stream",
     "text": [
      "tensor([[34.2182, 34.2089, 34.2089,  ...,  0.0000,  0.0000,  0.0000],\n",
      "        [34.4879, 34.2089, 34.2089,  ...,  0.0000,  0.0000,  1.0000],\n",
      "        [34.4879, 34.2089, 34.2089,  ...,  0.0000,  1.0000,  5.0000],\n",
      "        ...,\n",
      "        [34.5047, 34.2089, 34.2089,  ...,  1.0000,  5.0000,  1.0000],\n",
      "        [34.5047, 34.2089, 34.2089,  ...,  5.0000,  1.0000,  5.0000],\n",
      "        [34.5047, 34.2089, 34.2089,  ...,  1.0000,  5.0000,  1.0000]],\n",
      "       grad_fn=<CatBackward0>)\n",
      "[0 0 0 0 0 0 0 0 0 0 0 0 0 0 0 0 0 0 0 0] prediction number\n",
      "[1 5 1 5 1 5 1 5 1 5 1 5 1 5 1 5 1 5 1 5]\n"
     ]
    }
   ],
   "source": [
    "from symbol import term\n",
    "\n",
    "index_re = 20\n",
    "test_output = cnn(torch_data[:index_re],b_y[:index_re])\n",
    "print(test_output)\n",
    "# 输出一维最大值 纵坐标\n",
    "pred_y = torch.max(test_output, 1)[1].data.numpy().squeeze()\n",
    "print(pred_y, 'prediction number')\n",
    "print(test_y[:index_re].numpy())"
   ]
  }
 ],
 "metadata": {
  "kernelspec": {
   "display_name": "Python 3.8.13 ('py38')",
   "language": "python",
   "name": "python3"
  },
  "language_info": {
   "codemirror_mode": {
    "name": "ipython",
    "version": 3
   },
   "file_extension": ".py",
   "mimetype": "text/x-python",
   "name": "python",
   "nbconvert_exporter": "python",
   "pygments_lexer": "ipython3",
   "version": "3.8.13"
  },
  "vscode": {
   "interpreter": {
    "hash": "43103ebe49f20780c0555c255a4ff1c6773ce139c9c7300782dfd117b1d10422"
   }
  }
 },
 "nbformat": 4,
 "nbformat_minor": 0
}
