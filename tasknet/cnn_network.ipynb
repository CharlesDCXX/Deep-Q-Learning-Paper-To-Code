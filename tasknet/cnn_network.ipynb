{
 "cells": [
  {
   "cell_type": "code",
   "execution_count": null,
   "metadata": {},
   "outputs": [],
   "source": [
    "import os\n",
    "import torch as T\n",
    "import torch.nn as nn\n",
    "import torch.nn.functional as F\n",
    "import torch.optim as optim\n",
    "import numpy as np\n",
    "\n",
    "import torch\n",
    "from torch.autograd import Variable\n",
    "\n",
    "# 做一些假数据来观看图像\n",
    "x = torch.linspace(-5, 5, 200)  # x data (tensor), shape=(100, 1)\n",
    "x = Variable(x)\n",
    "\n",
    "x_np = x.data.numpy()   # 换成 numpy array, 出图时用\n",
    "\n",
    "# 几种常用的 激励函数\n",
    "y_relu = F.relu(x).data.numpy()\n",
    "y_sigmoid = F.sigmoid(x).data.numpy()\n",
    "y_tanh = F.tanh(x).data.numpy()\n",
    "y_softplus = F.softplus(x).data.numpy()\n",
    "\n"
   ]
  },
  {
   "cell_type": "code",
   "execution_count": 2,
   "metadata": {},
   "outputs": [
    {
     "data": {
      "image/png": "[encoded data removed]",
      "text/plain": [
       "<Figure size 640x480 with 1 Axes>"
      ]
     },
     "metadata": {},
     "output_type": "display_data"
    }
   ],
   "source": [
    "import torch\n",
    "import matplotlib.pyplot as plt\n",
    "\n",
    "x = torch.unsqueeze(torch.linspace(-1, 1, 100), dim=1)  # x data (tensor), shape=(100, 1)\n",
    "y = x.pow(2) + 0.2*torch.rand(x.size())                 # noisy y data (tensor), shape=(100, 1)\n",
    "\n",
    "# 画图\n",
    "plt.scatter(x.data.numpy(), y.data.numpy())\n",
    "plt.show()"
   ]
  },
  {
   "cell_type": "code",
   "execution_count": 1,
   "metadata": {},
   "outputs": [
    {
     "name": "stdout",
     "output_type": "stream",
     "text": [
      "Net(\n",
      "  (hidden): Linear(in_features=1, out_features=10, bias=True)\n",
      "  (predict): Linear(in_features=10, out_features=1, bias=True)\n",
      ")\n"
     ]
    }
   ],
   "source": [
    "import torch\n",
    "import torch.nn.functional as F     # 激励函数都在这\n",
    "\n",
    "class Net(torch.nn.Module):  # 继承 torch 的 Module\n",
    "    def __init__(self, n_feature, n_hidden, n_output):\n",
    "        super(Net, self).__init__()     # 继承 __init__ 功能\n",
    "        # 定义每层用什么样的形式\n",
    "        self.hidden = torch.nn.Linear(n_feature, n_hidden)   # 隐藏层线性输出\n",
    "        self.predict = torch.nn.Linear(n_hidden, n_output)   # 输出层线性输出\n",
    "\n",
    "    def forward(self, x):   # 这同时也是 Module 中的 forward 功能\n",
    "        # 正向传播输入值, 神经网络分析出输出值\n",
    "        x = F.relu(self.hidden(x))      # 激励函数(隐藏层的线性值)\n",
    "        x = self.predict(x)             # 输出值\n",
    "        return x\n",
    "\n",
    "net = Net(n_feature=1, n_hidden=10, n_output=1)\n",
    "\n",
    "print(net)  # net 的结构"
   ]
  },
  {
   "cell_type": "code",
   "execution_count": null,
   "metadata": {},
   "outputs": [],
   "source": [
    "# optimizer 是训练的工具\n",
    "optimizer = torch.optim.SGD(net.parameters(), lr=0.2)  # 传入 net 的所有参数, 学习率\n",
    "loss_func = torch.nn.MSELoss()      # 预测值和真实值的误差计算公式 (均方差)\n",
    "\n",
    "for t in range(100):\n",
    "    prediction = net(x)     # 喂给 net 训练数据 x, 输出预测值\n",
    "\n",
    "    loss = loss_func(prediction, y)     # 计算两者的误差\n",
    "\n",
    "    optimizer.zero_grad()   # 清空上一步的残余更新参数值\n",
    "    loss.backward()         # 误差反向传播, 计算参数更新值\n",
    "    optimizer.step()        # 将参数更新值施加到 net 的 parameters 上"
   ]
  },
  {
   "cell_type": "markdown",
   "metadata": {},
   "source": [
    "## 保存网络"
   ]
  },
  {
   "cell_type": "code",
   "execution_count": null,
   "metadata": {},
   "outputs": [],
   "source": [
    "torch.save(net, 'net.pkl')  # 保存整个网络\n",
    "torch.save(net.state_dict(), 'net_params.pkl')   # 只保存网络中的参数 (速度快, 占内存少)\n"
   ]
  },
  {
   "cell_type": "markdown",
   "metadata": {},
   "source": [
    "## 提取网络"
   ]
  },
  {
   "cell_type": "code",
   "execution_count": null,
   "metadata": {},
   "outputs": [],
   "source": [
    "def restore_net():\n",
    "    # restore entire net1 to net2\n",
    "    net2 = torch.load('net.pkl')\n",
    "    prediction = net2(x)"
   ]
  },
  {
   "cell_type": "markdown",
   "metadata": {},
   "source": [
    "## 只提取网络参数"
   ]
  },
  {
   "cell_type": "code",
   "execution_count": null,
   "metadata": {},
   "outputs": [],
   "source": [
    "def restore_params():\n",
    "    # 新建 net3\n",
    "    net3 = torch.nn.Sequential(\n",
    "        torch.nn.Linear(1, 10),\n",
    "        torch.nn.ReLU(),\n",
    "        torch.nn.Linear(10, 1)\n",
    "    )\n",
    "\n",
    "    # 将保存的参数复制到 net3\n",
    "    net3.load_state_dict(torch.load('net_params.pkl'))\n",
    "    prediction = net3(x)"
   ]
  },
  {
   "cell_type": "markdown",
   "metadata": {},
   "source": [
    "## Dataloader"
   ]
  },
  {
   "cell_type": "code",
   "execution_count": null,
   "metadata": {},
   "outputs": [],
   "source": [
    "import torch\n",
    "import torch.utils.data as Data\n",
    "torch.manual_seed(1)    # reproducible\n",
    "\n",
    "BATCH_SIZE = 5      # 批训练的数据个数\n",
    "\n",
    "x = torch.linspace(1, 10, 10)       # x data (torch tensor)\n",
    "y = torch.linspace(10, 1, 10)       # y data (torch tensor)\n",
    "\n",
    "# 先转换成 torch 能识别的 Dataset\n",
    "torch_dataset = Data.TensorDataset(data_tensor=x, target_tensor=y)\n",
    "\n",
    "# 把 dataset 放入 DataLoader\n",
    "loader = Data.DataLoader(\n",
    "    dataset=torch_dataset,      # torch TensorDataset format\n",
    "    batch_size=BATCH_SIZE,      # mini batch size\n",
    "    shuffle=True,               # 要不要打乱数据 (打乱比较好)\n",
    "    num_workers=2,              # 多线程来读数据\n",
    ")\n",
    "\n",
    "for epoch in range(3):   # 训练所有!整套!数据 3 次\n",
    "    for step, (batch_x, batch_y) in enumerate(loader):  # 每一步 loader 释放一小批数据用来学习\n",
    "        # 假设这里就是你训练的地方...\n",
    "\n",
    "        # 打出来一些数据\n",
    "        print('Epoch: ', epoch, '| Step: ', step, '| batch x: ',\n",
    "              batch_x.numpy(), '| batch y: ', batch_y.numpy())\n",
    "\n",
    "\"\"\"\n",
    "Epoch:  0 | Step:  0 | batch x:  [ 6.  7.  2.  3.  1.] | batch y:  [  5.   4.   9.   8.  10.]\n",
    "Epoch:  0 | Step:  1 | batch x:  [  9.  10.   4.   8.   5.] | batch y:  [ 2.  1.  7.  3.  6.]\n",
    "Epoch:  1 | Step:  0 | batch x:  [  3.   4.   2.   9.  10.] | batch y:  [ 8.  7.  9.  2.  1.]\n",
    "Epoch:  1 | Step:  1 | batch x:  [ 1.  7.  8.  5.  6.] | batch y:  [ 10.   4.   3.   6.   5.]\n",
    "Epoch:  2 | Step:  0 | batch x:  [ 3.  9.  2.  6.  7.] | batch y:  [ 8.  2.  9.  5.  4.]\n",
    "Epoch:  2 | Step:  1 | batch x:  [ 10.   4.   8.   1.   5.] | batch y:  [  1.   7.   3.  10.   6.]\n",
    "可以看出, 每步都导出了5个数据进行学习. 然后每个 epoch 的导出数据都是先打乱了以后再导出.\n",
    "\"\"\""
   ]
  },
  {
   "cell_type": "code",
   "execution_count": 7,
   "metadata": {},
   "outputs": [],
   "source": [
    "import torch\n",
    "import torch.nn as nn\n",
    "import torch.utils.data as Data\n",
    "import torchvision      # 数据库模块\n",
    "import matplotlib.pyplot as plt\n",
    "\n",
    "torch.manual_seed(1)    # reproducible\n",
    "\n",
    "# Hyper Parameters\n",
    "EPOCH = 1           # 训练整批数据多少次, 为了节约时间, 我们只训练一次\n",
    "BATCH_SIZE = 50\n",
    "LR = 0.001          # 学习率\n",
    "DOWNLOAD_MNIST = False  # 如果你已经下载好了mnist数据就写上 False\n",
    "\n",
    "\n",
    "# Mnist 手写数字\n",
    "train_data = torchvision.datasets.MNIST(\n",
    "    root='./mnist/',    # 保存或者提取位置\n",
    "    train=True,  # this is training data\n",
    "    transform=torchvision.transforms.ToTensor(),    # 转换 PIL.Image or numpy.ndarray 成\n",
    "                                                    # torch.FloatTensor (C x H x W), 训练的时候 normalize 成 [0.0, 1.0] 区间\n",
    "    download=DOWNLOAD_MNIST,          # 没下载就下载, 下载了就不用再下了\n",
    ")"
   ]
  },
  {
   "cell_type": "code",
   "execution_count": 11,
   "metadata": {},
   "outputs": [],
   "source": [
    "test_data = torchvision.datasets.MNIST(root='./mnist/', train=False)\n",
    "\n",
    "# 批训练 50samples, 1 channel, 28x28 (50, 1, 28, 28)\n",
    "train_loader = Data.DataLoader(dataset=train_data, batch_size=BATCH_SIZE, shuffle=True)\n",
    "\n",
    "# 为了节约时间, 我们测试时只测试前2000个\n",
    "# test_x = torch.unsqueeze(test_data.data, dim=1).type(torch.FloatTensor)[:2000]/255.   # shape from (2000, 28, 28) to (2000, 1, 28, 28), value in range(0,1)\n",
    "# test_y = test_data.targets[:2000]\n",
    "\n"
   ]
  },
  {
   "cell_type": "code",
   "execution_count": 29,
   "metadata": {},
   "outputs": [
    {
     "name": "stdout",
     "output_type": "stream",
     "text": [
      "<torch.utils.data.dataloader.DataLoader object at 0x10b1ca7f0>\n",
      "tensor([4, 9, 0, 5, 9, 8, 1, 7, 1, 9, 2, 7, 8, 6, 0, 1, 2, 3, 3, 2, 9, 0, 7, 4,\n",
      "        3, 3, 1, 9, 9, 3, 9, 5, 4, 2, 6, 1, 2, 7, 2, 4, 1, 0, 9, 0, 7, 3, 3, 1,\n",
      "        4, 7])\n",
      "tensor([[ 8.7987e-02, -1.1067e-01, -5.1509e-02,  5.0923e-03, -6.0146e-02,\n",
      "         -8.6910e-02, -5.5001e-02,  2.5104e-02,  6.7368e-02, -2.7047e-02],\n",
      "        [ 1.7747e-02, -1.0314e-01, -9.1243e-02,  3.2549e-02, -2.8373e-02,\n",
      "         -6.1926e-02, -2.4993e-02,  9.4029e-03,  1.0137e-01, -7.6753e-02],\n",
      "        [ 4.4894e-02, -1.5528e-01, -7.2026e-02,  8.4558e-02, -2.0038e-02,\n",
      "         -5.6405e-02,  1.4776e-02, -1.9671e-02,  9.6529e-02, -8.3808e-02],\n",
      "        [ 8.4111e-04, -9.3024e-02, -5.7514e-02,  3.2897e-02, -3.7667e-02,\n",
      "         -4.4275e-02, -6.9146e-02,  5.1209e-02,  8.7200e-02, -8.3749e-02],\n",
      "        [ 4.0950e-02, -9.3489e-02, -5.5148e-02,  4.6577e-02, -5.7125e-02,\n",
      "         -2.3821e-02,  7.0238e-03, -1.5042e-03,  1.0772e-01, -4.1651e-02],\n",
      "        [ 3.1458e-02, -1.4318e-01, -5.7402e-02,  3.0952e-02, -6.1019e-02,\n",
      "         -5.6814e-02,  3.5260e-02, -2.1433e-03,  9.6705e-02, -7.9621e-02],\n",
      "        [ 3.8708e-02, -1.1629e-01, -4.8688e-02,  2.9163e-02, -2.4647e-02,\n",
      "         -1.0037e-02, -2.3175e-02,  3.4516e-02,  1.0476e-01, -6.8777e-02],\n",
      "        [ 2.3442e-02, -1.3513e-01, -2.9826e-02,  3.1919e-02, -4.7808e-02,\n",
      "         -4.3400e-02, -2.0520e-02,  1.5316e-02,  1.0553e-01, -2.8523e-02],\n",
      "        [ 1.9701e-02, -9.9752e-02, -5.8180e-02,  3.0524e-02, -3.2108e-02,\n",
      "         -4.7566e-02, -1.0665e-02,  2.3834e-02,  1.2698e-01, -4.0311e-02],\n",
      "        [ 4.1379e-02, -1.1897e-01, -6.1976e-02,  2.4486e-02, -4.5959e-02,\n",
      "         -8.1902e-02, -3.2367e-02,  3.7088e-02,  8.4141e-02, -6.7064e-02],\n",
      "        [ 5.9996e-02, -1.7464e-01, -9.2109e-02,  2.0299e-02, -6.1000e-03,\n",
      "         -5.8129e-02,  4.4084e-02, -3.2783e-02,  1.1749e-01, -1.0224e-01],\n",
      "        [ 3.9330e-02, -1.1635e-01, -9.9012e-02,  2.7109e-02, -2.2750e-02,\n",
      "         -4.3052e-02,  7.9172e-03,  2.0338e-02,  1.2861e-01, -3.3450e-02],\n",
      "        [ 5.6469e-02, -1.2178e-01, -6.3619e-02,  3.0869e-02, -5.7128e-02,\n",
      "         -2.4553e-02,  6.3032e-02,  4.2618e-03,  1.0490e-01, -1.8831e-02],\n",
      "        [ 3.2954e-02, -1.8346e-01, -3.0110e-02,  3.3456e-03, -5.9082e-02,\n",
      "         -3.0242e-02,  2.1430e-03,  1.5784e-02,  4.3309e-02, -7.0303e-02],\n",
      "        [ 4.4528e-04, -1.5153e-01, -5.0792e-02,  7.2666e-02, -5.9274e-02,\n",
      "         -8.6837e-02,  3.9074e-02, -2.1879e-02,  7.6542e-02, -9.3485e-02],\n",
      "        [ 4.1531e-02, -1.0486e-01, -5.3254e-02,  3.1536e-02, -1.2161e-02,\n",
      "         -4.0710e-02, -1.5271e-02,  3.5881e-02,  6.9151e-02, -8.3283e-02],\n",
      "        [ 9.7907e-02, -1.4788e-01, -7.5445e-02,  1.3115e-02, -5.7441e-02,\n",
      "         -2.4853e-02, -5.2364e-02,  4.5818e-02,  1.4765e-01, -4.9083e-02],\n",
      "        [ 3.8628e-02, -1.2126e-01, -1.4124e-01,  3.2045e-02, -1.7133e-02,\n",
      "         -3.5154e-02, -2.1025e-02,  6.9985e-03,  1.1848e-01, -4.5677e-02],\n",
      "        [ 1.3366e-02, -1.3881e-01, -1.6405e-02,  3.8412e-02, -7.8576e-02,\n",
      "         -9.1965e-02, -4.5532e-02,  3.0475e-02,  1.2185e-01, -9.6725e-02],\n",
      "        [ 4.7462e-02, -1.2386e-01, -7.3716e-02,  5.1597e-02, -4.1824e-02,\n",
      "         -3.4052e-02, -4.6125e-03,  1.1477e-02,  1.4961e-01, -8.1532e-02],\n",
      "        [ 7.0667e-02, -1.3568e-01, -7.1246e-02,  3.0761e-02, -6.1348e-02,\n",
      "         -5.3771e-02, -3.5051e-02,  1.8682e-02,  8.6783e-02, -7.9336e-02],\n",
      "        [ 5.6068e-02, -1.6041e-01, -7.8749e-02,  4.8170e-02, -4.2491e-02,\n",
      "         -8.1329e-02,  1.3216e-02, -8.7665e-03,  9.8124e-02, -7.5806e-02],\n",
      "        [ 3.9639e-02, -8.6988e-02, -8.7983e-02,  4.3661e-02, -3.2222e-02,\n",
      "         -8.7772e-03, -2.9710e-02,  5.3197e-02,  1.0728e-01, -4.2765e-02],\n",
      "        [ 5.2911e-02, -1.3548e-01, -6.8859e-02, -1.2964e-02, -4.3627e-02,\n",
      "         -5.7490e-02, -4.5677e-02,  5.6609e-02,  6.7391e-02, -7.7056e-02],\n",
      "        [ 2.2805e-02, -1.0770e-01, -5.6705e-02,  3.5779e-02, -3.6375e-02,\n",
      "         -3.6035e-02, -2.9595e-02,  2.6593e-02,  1.2850e-01, -6.5570e-02],\n",
      "        [ 4.3330e-02, -1.1289e-01, -1.5975e-02,  3.7009e-02, -1.0720e-01,\n",
      "         -9.1662e-02, -1.7169e-02,  1.7242e-03,  7.5657e-02, -7.5695e-02],\n",
      "        [ 3.7495e-02, -8.6767e-02, -6.2533e-02,  3.7108e-02, -3.0434e-02,\n",
      "         -3.5444e-02,  2.1704e-02,  2.3192e-02,  1.1697e-01, -5.5106e-02],\n",
      "        [ 6.1677e-02, -1.7763e-01, -3.1405e-02,  4.6978e-02, -4.0261e-02,\n",
      "         -5.5806e-02, -8.9462e-03,  6.2265e-03,  6.0429e-02, -5.7406e-02],\n",
      "        [ 5.1811e-02, -1.3893e-01, -3.6426e-02,  5.7373e-02, -5.7347e-02,\n",
      "         -4.8336e-02, -1.1614e-02, -1.1847e-02,  1.1038e-01, -5.6778e-02],\n",
      "        [ 3.6053e-02, -1.0789e-01, -5.2771e-02,  2.5589e-02, -4.2832e-02,\n",
      "         -4.1847e-02, -3.2855e-02,  1.4885e-02,  1.0160e-01, -3.6348e-02],\n",
      "        [ 2.9090e-02, -1.1890e-01, -5.2593e-02,  4.3467e-02, -7.1018e-02,\n",
      "         -5.4813e-02,  2.5582e-02,  7.0666e-03,  9.1849e-02, -6.7081e-02],\n",
      "        [ 6.4207e-02, -1.0338e-01, -6.8778e-02,  2.7048e-02, -3.2383e-02,\n",
      "         -3.4812e-02,  8.3019e-03,  3.5032e-04,  9.5357e-02, -4.6618e-02],\n",
      "        [ 6.2014e-02, -1.4496e-01, -4.6803e-02,  4.0916e-02, -5.0744e-02,\n",
      "         -4.7232e-02, -3.6252e-03,  6.0191e-03,  8.0649e-02, -7.4796e-02],\n",
      "        [ 4.1177e-02, -1.4566e-01, -9.5432e-02,  2.2413e-03, -3.3855e-02,\n",
      "         -6.1342e-02, -3.2016e-02,  1.3342e-02,  1.1846e-01, -1.0622e-01],\n",
      "        [ 1.4527e-02, -1.2581e-01, -4.1019e-02,  8.6532e-02, -2.7189e-02,\n",
      "         -8.6091e-02, -1.4843e-03,  3.7186e-02,  1.0085e-01, -1.1682e-01],\n",
      "        [ 3.1594e-02, -9.5243e-02, -6.3995e-02,  5.6414e-02, -1.5490e-02,\n",
      "         -4.1070e-02, -3.4140e-02,  5.8381e-02,  6.8680e-02, -7.1575e-02],\n",
      "        [ 2.7952e-02, -1.6189e-01, -7.7985e-02, -6.7659e-03, -9.6920e-03,\n",
      "         -4.8159e-02,  1.2463e-04,  2.6235e-02,  1.1083e-01, -4.9837e-02],\n",
      "        [ 3.7663e-02, -1.1561e-01, -7.7498e-02,  4.0206e-02, -4.5780e-02,\n",
      "         -1.3568e-02, -1.8468e-02,  4.7556e-02,  9.6047e-02, -3.7901e-02],\n",
      "        [ 8.1547e-02, -1.8730e-01, -7.0779e-02,  5.4621e-02, -4.2154e-02,\n",
      "         -1.8916e-02, -1.3723e-02,  6.0680e-03,  1.2245e-01, -2.1847e-03],\n",
      "        [ 4.1869e-02, -1.2614e-01, -5.3052e-02,  6.3707e-03, -3.9152e-02,\n",
      "         -5.1212e-02, -1.9232e-02,  5.0930e-02,  1.0471e-01, -6.6845e-02],\n",
      "        [ 4.4817e-02, -9.3474e-02, -7.2272e-02,  5.1389e-02, -4.5504e-02,\n",
      "         -1.7104e-02, -2.5016e-02,  3.9075e-02,  5.9612e-02, -6.4570e-02],\n",
      "        [ 4.3025e-02, -1.6220e-01, -7.8835e-02,  6.5698e-02, -7.0924e-02,\n",
      "         -1.2150e-01,  1.6968e-02, -3.5979e-02,  6.9453e-02, -9.6176e-02],\n",
      "        [ 4.7872e-02, -1.5992e-01, -6.0419e-02,  4.7625e-02, -6.1716e-02,\n",
      "         -7.0063e-02, -3.5861e-02,  1.9443e-02,  8.4961e-02, -8.7301e-02],\n",
      "        [ 6.2207e-02, -1.5887e-01, -6.5274e-02,  7.9280e-02, -5.4920e-02,\n",
      "         -8.6053e-02, -5.9562e-03,  1.7832e-02,  8.6531e-02, -8.5036e-02],\n",
      "        [ 3.6866e-02, -1.0814e-01, -1.0153e-01,  1.7423e-02, -2.9123e-02,\n",
      "         -6.1438e-03, -4.7257e-02,  5.9120e-02,  9.6646e-02, -3.6791e-02],\n",
      "        [ 6.9793e-02, -9.2285e-02, -8.3740e-02,  1.4665e-02, -5.0480e-02,\n",
      "         -5.1131e-02, -2.0757e-02,  3.1999e-02,  1.1568e-01, -3.9525e-03],\n",
      "        [ 2.4213e-02, -8.4708e-02, -5.6788e-02,  3.7239e-02, -6.2036e-02,\n",
      "         -5.2833e-02, -4.3145e-02,  4.8283e-02,  8.3428e-02, -6.4963e-02],\n",
      "        [ 4.5753e-02, -8.1970e-02, -4.6244e-02,  5.5576e-02, -3.3413e-02,\n",
      "         -3.3524e-02, -1.1428e-02,  1.2247e-02,  8.4075e-02, -8.3184e-02],\n",
      "        [ 1.0926e-01, -1.1997e-01, -1.1077e-03,  1.2385e-02, -8.7045e-02,\n",
      "         -5.0958e-02,  7.2669e-03,  2.2437e-02,  7.4192e-02, -1.4530e-02],\n",
      "        [ 5.1648e-02, -1.5150e-01, -5.9890e-02,  4.5115e-02, -4.9748e-02,\n",
      "         -1.5177e-02, -1.6888e-02,  2.2600e-02,  4.7848e-02, -3.2310e-02]],\n",
      "       grad_fn=<AddmmBackward0>)\n"
     ]
    }
   ],
   "source": [
    "class CNN(nn.Module):\n",
    "    def __init__(self):\n",
    "        super(CNN, self).__init__()\n",
    "        self.conv1 = nn.Sequential(  # input shape (1, 28, 28)\n",
    "            nn.Conv2d(\n",
    "                in_channels=1,      # input height\n",
    "                out_channels=16,    # n_filters\n",
    "                kernel_size=5,      # filter size\n",
    "                stride=1,           # filter movement/step\n",
    "                padding=2,      # 如果想要 con2d 出来的图片长宽没有变化, padding=(kernel_size-1)/2 当 stride=1\n",
    "            ),      # output shape (16, 28, 28)\n",
    "            nn.ReLU(),    # activation\n",
    "            nn.MaxPool2d(kernel_size=2),    # 在 2x2 空间里向下采样, output shape (16, 14, 14)\n",
    "        )\n",
    "        self.conv2 = nn.Sequential(  # input shape (16, 14, 14)\n",
    "            nn.Conv2d(16, 32, 5, 1, 2),  # output shape (32, 14, 14)\n",
    "            nn.ReLU(),  # activation\n",
    "            nn.MaxPool2d(2),  # output shape (32, 7, 7)\n",
    "        )\n",
    "        self.out = nn.Linear(32 * 7 * 7, 10)   # fully connected layer, output 10 classes\n",
    "\n",
    "    def forward(self, x):\n",
    "        x = self.conv1(x)\n",
    "        x = self.conv2(x)\n",
    "        x = x.view(x.size(0), -1)   # 展平多维的卷积图成 (batch_size, 32 * 7 * 7)\n",
    "        output = self.out(x)\n",
    "        return output\n",
    "\n",
    "cnn = CNN()\n",
    "#print(cnn)  # net architecture\n",
    "print(train_loader)\n",
    "for step, (b_x, b_y) in enumerate(train_loader):   # 分配 batch data, normalize x when iterate train_loader\n",
    "        output = cnn(b_x) \n",
    "        print(b_y)\n",
    "        print(output)\n",
    "\n",
    "        break\n",
    "        "
   ]
  },
  {
   "cell_type": "code",
   "execution_count": 25,
   "metadata": {},
   "outputs": [
    {
     "name": "stdout",
     "output_type": "stream",
     "text": [
      "tensor([7, 0, 2, 3, 8, 3, 5, 7, 8, 6, 3, 0, 0, 8, 8, 8, 4, 2, 2, 5, 2, 4, 0, 9,\n",
      "        7, 1, 3, 6, 8, 3, 9, 2, 2, 2, 1, 5, 0, 4, 8, 7, 8, 2, 7, 5, 7, 4, 2, 9,\n",
      "        4, 7])\n"
     ]
    },
    {
     "data": {
      "text/plain": [
       "'\\n...\\nEpoch:  0 | train loss: 0.0306 | test accuracy: 0.97\\nEpoch:  0 | train loss: 0.0147 | test accuracy: 0.98\\nEpoch:  0 | train loss: 0.0427 | test accuracy: 0.98\\nEpoch:  0 | train loss: 0.0078 | test accuracy: 0.98\\n'"
      ]
     },
     "execution_count": 25,
     "metadata": {},
     "output_type": "execute_result"
    }
   ],
   "source": [
    "optimizer = torch.optim.Adam(cnn.parameters(), lr=LR)   # optimize all cnn parameters\n",
    "loss_func = nn.CrossEntropyLoss()   # the target label is not one-hotted\n",
    "\n",
    "# training and testing\n",
    "for epoch in range(EPOCH):\n",
    "    for step, (b_x, b_y) in enumerate(train_loader):   # 分配 batch data, normalize x when iterate train_loader\n",
    "        print(b_y)\n",
    "        output = cnn(b_x)               # cnn output\n",
    "        loss = loss_func(output, b_y)   # cross entropy loss\n",
    "        optimizer.zero_grad()           # clear gradients for this training step\n",
    "        loss.backward()                 # backpropagation, compute gradients\n",
    "        optimizer.step()                # apply gradients\n",
    "        break\n",
    "\"\"\"\n",
    "...\n",
    "Epoch:  0 | train loss: 0.0306 | test accuracy: 0.97\n",
    "Epoch:  0 | train loss: 0.0147 | test accuracy: 0.98\n",
    "Epoch:  0 | train loss: 0.0427 | test accuracy: 0.98\n",
    "Epoch:  0 | train loss: 0.0078 | test accuracy: 0.98\n",
    "\"\"\""
   ]
  },
  {
   "cell_type": "code",
   "execution_count": 6,
   "metadata": {},
   "outputs": [
    {
     "name": "stdout",
     "output_type": "stream",
     "text": [
      "[7 2 1 0 4 1 4 9 5 9] prediction number\n",
      "[7 2 1 0 4 1 4 9 5 9] real number\n"
     ]
    },
    {
     "data": {
      "text/plain": [
       "'\\n[7 2 1 0 4 1 4 9 5 9] prediction number\\n[7 2 1 0 4 1 4 9 5 9] real number\\n'"
      ]
     },
     "execution_count": 6,
     "metadata": {},
     "output_type": "execute_result"
    }
   ],
   "source": [
    "test_output = cnn(test_x[:10])\n",
    "pred_y = torch.max(test_output, 1)[1].data.numpy().squeeze()\n",
    "print(pred_y, 'prediction number')\n",
    "print(test_y[:10].numpy(), 'real number')\n",
    "\n",
    "\"\"\"\n",
    "[7 2 1 0 4 1 4 9 5 9] prediction number\n",
    "[7 2 1 0 4 1 4 9 5 9] real number\n",
    "\"\"\""
   ]
  }
 ],
 "metadata": {
  "kernelspec": {
   "display_name": "Python 3.8.13 ('py38')",
   "language": "python",
   "name": "python3"
  },
  "language_info": {
   "codemirror_mode": {
    "name": "ipython",
    "version": 3
   },
   "file_extension": ".py",
   "mimetype": "text/x-python",
   "name": "python",
   "nbconvert_exporter": "python",
   "pygments_lexer": "ipython3",
   "version": "3.8.13"
  },
  "orig_nbformat": 4,
  "vscode": {
   "interpreter": {
    "hash": "43103ebe49f20780c0555c255a4ff1c6773ce139c9c7300782dfd117b1d10422"
   }
  }
 },
 "nbformat": 4,
 "nbformat_minor": 2
}
