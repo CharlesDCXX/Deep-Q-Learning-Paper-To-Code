{
 "cells": [
  {
   "cell_type": "code",
   "execution_count": 2,
   "metadata": {},
   "outputs": [
    {
     "name": "stderr",
     "output_type": "stream",
     "text": [
      "/Users/duanchenxi/opt/anaconda3/envs/py38/lib/python3.8/site-packages/torch/nn/functional.py:1960: UserWarning: nn.functional.sigmoid is deprecated. Use torch.sigmoid instead.\n",
      "  warnings.warn(\"nn.functional.sigmoid is deprecated. Use torch.sigmoid instead.\")\n",
      "/Users/duanchenxi/opt/anaconda3/envs/py38/lib/python3.8/site-packages/torch/nn/functional.py:1949: UserWarning: nn.functional.tanh is deprecated. Use torch.tanh instead.\n",
      "  warnings.warn(\"nn.functional.tanh is deprecated. Use torch.tanh instead.\")\n"
     ]
    }
   ],
   "source": [
    "import os\n",
    "import torch as T\n",
    "import torch.nn as nn\n",
    "import torch.nn.functional as F\n",
    "import torch.optim as optim\n",
    "import numpy as np\n",
    "\n",
    "import torch\n",
    "from torch.autograd import Variable\n",
    "\n",
    "# 做一些假数据来观看图像\n",
    "x = torch.linspace(-5, 5, 200)  # x data (tensor), shape=(100, 1)\n",
    "x = Variable(x)\n",
    "\n",
    "x_np = x.data.numpy()   # 换成 numpy array, 出图时用\n",
    "\n",
    "# 几种常用的 激励函数\n",
    "y_relu = F.relu(x).data.numpy()\n",
    "y_sigmoid = F.sigmoid(x).data.numpy()\n",
    "y_tanh = F.tanh(x).data.numpy()\n",
    "y_softplus = F.softplus(x).data.numpy()\n",
    "\n"
   ]
  },
  {
   "cell_type": "code",
   "execution_count": 3,
   "metadata": {},
   "outputs": [
    {
     "data": {
      "image/png": "[encoded data removed]",
      "text/plain": [
       "<Figure size 640x480 with 1 Axes>"
      ]
     },
     "metadata": {},
     "output_type": "display_data"
    }
   ],
   "source": [
    "import torch\n",
    "import matplotlib.pyplot as plt\n",
    "\n",
    "x = torch.unsqueeze(torch.linspace(-1, 1, 100), dim=1)  # x data (tensor), shape=(100, 1)\n",
    "y = x.pow(2) + 0.2*torch.rand(x.size())                 # noisy y data (tensor), shape=(100, 1)\n",
    "\n",
    "# 画图\n",
    "plt.scatter(x.data.numpy(), y.data.numpy())\n",
    "plt.show()"
   ]
  },
  {
   "cell_type": "code",
   "execution_count": 4,
   "metadata": {},
   "outputs": [
    {
     "name": "stdout",
     "output_type": "stream",
     "text": [
      "Net(\n",
      "  (hidden): Linear(in_features=1, out_features=10, bias=True)\n",
      "  (predict): Linear(in_features=10, out_features=1, bias=True)\n",
      ")\n"
     ]
    }
   ],
   "source": [
    "import torch\n",
    "import torch.nn.functional as F     # 激励函数都在这\n",
    "\n",
    "class Net(torch.nn.Module):  # 继承 torch 的 Module\n",
    "    def __init__(self, n_feature, n_hidden, n_output):\n",
    "        super(Net, self).__init__()     # 继承 __init__ 功能\n",
    "        # 定义每层用什么样的形式\n",
    "        self.hidden = torch.nn.Linear(n_feature, n_hidden)   # 隐藏层线性输出\n",
    "        self.predict = torch.nn.Linear(n_hidden, n_output)   # 输出层线性输出\n",
    "\n",
    "    def forward(self, x):   # 这同时也是 Module 中的 forward 功能\n",
    "        # 正向传播输入值, 神经网络分析出输出值\n",
    "        x = F.relu(self.hidden(x))      # 激励函数(隐藏层的线性值)\n",
    "        x = self.predict(x)             # 输出值\n",
    "        return x\n",
    "\n",
    "net = Net(n_feature=1, n_hidden=10, n_output=1)\n",
    "\n",
    "print(net)  # net 的结构"
   ]
  },
  {
   "cell_type": "code",
   "execution_count": 5,
   "metadata": {},
   "outputs": [],
   "source": [
    "# optimizer 是训练的工具\n",
    "optimizer = torch.optim.SGD(net.parameters(), lr=0.2)  # 传入 net 的所有参数, 学习率\n",
    "loss_func = torch.nn.MSELoss()      # 预测值和真实值的误差计算公式 (均方差)\n",
    "\n",
    "for t in range(100):\n",
    "    prediction = net(x)     # 喂给 net 训练数据 x, 输出预测值\n",
    "\n",
    "    loss = loss_func(prediction, y)     # 计算两者的误差\n",
    "\n",
    "    optimizer.zero_grad()   # 清空上一步的残余更新参数值\n",
    "    loss.backward()         # 误差反向传播, 计算参数更新值\n",
    "    optimizer.step()        # 将参数更新值施加到 net 的 parameters 上"
   ]
  },
  {
   "cell_type": "markdown",
   "metadata": {},
   "source": [
    "## 保存网络"
   ]
  },
  {
   "cell_type": "code",
   "execution_count": 6,
   "metadata": {},
   "outputs": [],
   "source": [
    "torch.save(net, 'net.pkl')  # 保存整个网络\n",
    "torch.save(net.state_dict(), 'net_params.pkl')   # 只保存网络中的参数 (速度快, 占内存少)\n"
   ]
  },
  {
   "cell_type": "markdown",
   "metadata": {},
   "source": [
    "## 提取网络"
   ]
  },
  {
   "cell_type": "code",
   "execution_count": 7,
   "metadata": {},
   "outputs": [],
   "source": [
    "def restore_net():\n",
    "    # restore entire net1 to net2\n",
    "    net2 = torch.load('net.pkl')\n",
    "    prediction = net2(x)"
   ]
  },
  {
   "cell_type": "markdown",
   "metadata": {},
   "source": [
    "## 只提取网络参数"
   ]
  },
  {
   "cell_type": "code",
   "execution_count": 8,
   "metadata": {},
   "outputs": [],
   "source": [
    "def restore_params():\n",
    "    # 新建 net3\n",
    "    net3 = torch.nn.Sequential(\n",
    "        torch.nn.Linear(1, 10),\n",
    "        torch.nn.ReLU(),\n",
    "        torch.nn.Linear(10, 1)\n",
    "    )\n",
    "\n",
    "    # 将保存的参数复制到 net3\n",
    "    net3.load_state_dict(torch.load('net_params.pkl'))\n",
    "    prediction = net3(x)"
   ]
  },
  {
   "cell_type": "markdown",
   "metadata": {},
   "source": [
    "## Dataloader"
   ]
  },
  {
   "cell_type": "code",
   "execution_count": 2,
   "metadata": {},
   "outputs": [
    {
     "ename": "TypeError",
     "evalue": "__init__() got an unexpected keyword argument 'data_tensor'",
     "output_type": "error",
     "traceback": [
      "\u001b[0;31m---------------------------------------------------------------------------\u001b[0m",
      "\u001b[0;31mTypeError\u001b[0m                                 Traceback (most recent call last)",
      "\u001b[1;32m/Users/duanchenxi/project/GitHub/hello-world/tasknet/cnn_network.ipynb Cell 12\u001b[0m in \u001b[0;36m<cell line: 11>\u001b[0;34m()\u001b[0m\n\u001b[1;32m      <a href='vscode-notebook-cell:/Users/duanchenxi/project/GitHub/hello-world/tasknet/cnn_network.ipynb#X14sZmlsZQ%3D%3D?line=7'>8</a>\u001b[0m y \u001b[39m=\u001b[39m torch\u001b[39m.\u001b[39mlinspace(\u001b[39m10\u001b[39m, \u001b[39m1\u001b[39m, \u001b[39m10\u001b[39m)       \u001b[39m# y data (torch tensor)\u001b[39;00m\n\u001b[1;32m     <a href='vscode-notebook-cell:/Users/duanchenxi/project/GitHub/hello-world/tasknet/cnn_network.ipynb#X14sZmlsZQ%3D%3D?line=9'>10</a>\u001b[0m \u001b[39m# 先转换成 torch 能识别的 Dataset\u001b[39;00m\n\u001b[0;32m---> <a href='vscode-notebook-cell:/Users/duanchenxi/project/GitHub/hello-world/tasknet/cnn_network.ipynb#X14sZmlsZQ%3D%3D?line=10'>11</a>\u001b[0m torch_dataset \u001b[39m=\u001b[39m Data\u001b[39m.\u001b[39;49mTensorDataset(data_tensor\u001b[39m=\u001b[39;49mx, target_tensor\u001b[39m=\u001b[39;49my)\n\u001b[1;32m     <a href='vscode-notebook-cell:/Users/duanchenxi/project/GitHub/hello-world/tasknet/cnn_network.ipynb#X14sZmlsZQ%3D%3D?line=12'>13</a>\u001b[0m \u001b[39m# 把 dataset 放入 DataLoader\u001b[39;00m\n\u001b[1;32m     <a href='vscode-notebook-cell:/Users/duanchenxi/project/GitHub/hello-world/tasknet/cnn_network.ipynb#X14sZmlsZQ%3D%3D?line=13'>14</a>\u001b[0m loader \u001b[39m=\u001b[39m Data\u001b[39m.\u001b[39mDataLoader(\n\u001b[1;32m     <a href='vscode-notebook-cell:/Users/duanchenxi/project/GitHub/hello-world/tasknet/cnn_network.ipynb#X14sZmlsZQ%3D%3D?line=14'>15</a>\u001b[0m     dataset\u001b[39m=\u001b[39mtorch_dataset,      \u001b[39m# torch TensorDataset format\u001b[39;00m\n\u001b[1;32m     <a href='vscode-notebook-cell:/Users/duanchenxi/project/GitHub/hello-world/tasknet/cnn_network.ipynb#X14sZmlsZQ%3D%3D?line=15'>16</a>\u001b[0m     batch_size\u001b[39m=\u001b[39mBATCH_SIZE,      \u001b[39m# mini batch size\u001b[39;00m\n\u001b[1;32m     <a href='vscode-notebook-cell:/Users/duanchenxi/project/GitHub/hello-world/tasknet/cnn_network.ipynb#X14sZmlsZQ%3D%3D?line=16'>17</a>\u001b[0m     shuffle\u001b[39m=\u001b[39m\u001b[39mTrue\u001b[39;00m,               \u001b[39m# 要不要打乱数据 (打乱比较好)\u001b[39;00m\n\u001b[1;32m     <a href='vscode-notebook-cell:/Users/duanchenxi/project/GitHub/hello-world/tasknet/cnn_network.ipynb#X14sZmlsZQ%3D%3D?line=17'>18</a>\u001b[0m     num_workers\u001b[39m=\u001b[39m\u001b[39m2\u001b[39m,              \u001b[39m# 多线程来读数据\u001b[39;00m\n\u001b[1;32m     <a href='vscode-notebook-cell:/Users/duanchenxi/project/GitHub/hello-world/tasknet/cnn_network.ipynb#X14sZmlsZQ%3D%3D?line=18'>19</a>\u001b[0m )\n",
      "\u001b[0;31mTypeError\u001b[0m: __init__() got an unexpected keyword argument 'data_tensor'"
     ]
    }
   ],
   "source": [
    "import torch\n",
    "import torch.utils.data as Data\n",
    "torch.manual_seed(1)    # reproducible\n",
    "\n",
    "BATCH_SIZE = 5      # 批训练的数据个数\n",
    "\n",
    "x = torch.linspace(1, 10, 10)       # x data (torch tensor)\n",
    "y = torch.linspace(10, 1, 10)       # y data (torch tensor)\n",
    "\n",
    "# 先转换成 torch 能识别的 Dataset\n",
    "torch_dataset = Data.TensorDataset(data_tensor=x, target_tensor=y)\n",
    "\n",
    "# 把 dataset 放入 DataLoader\n",
    "loader = Data.DataLoader(\n",
    "    dataset=torch_dataset,      # torch TensorDataset format\n",
    "    batch_size=BATCH_SIZE,      # mini batch size\n",
    "    shuffle=True,               # 要不要打乱数据 (打乱比较好)\n",
    "    num_workers=2,              # 多线程来读数据\n",
    ")\n",
    "\n",
    "for epoch in range(3):   # 训练所有!整套!数据 3 次\n",
    "    for step, (batch_x, batch_y) in enumerate(loader):  # 每一步 loader 释放一小批数据用来学习\n",
    "        # 假设这里就是你训练的地方...\n",
    "\n",
    "        # 打出来一些数据\n",
    "        print('Epoch: ', epoch, '| Step: ', step, '| batch x: ',\n",
    "              batch_x.numpy(), '| batch y: ', batch_y.numpy())\n",
    "\n",
    "\"\"\"\n",
    "Epoch:  0 | Step:  0 | batch x:  [ 6.  7.  2.  3.  1.] | batch y:  [  5.   4.   9.   8.  10.]\n",
    "Epoch:  0 | Step:  1 | batch x:  [  9.  10.   4.   8.   5.] | batch y:  [ 2.  1.  7.  3.  6.]\n",
    "Epoch:  1 | Step:  0 | batch x:  [  3.   4.   2.   9.  10.] | batch y:  [ 8.  7.  9.  2.  1.]\n",
    "Epoch:  1 | Step:  1 | batch x:  [ 1.  7.  8.  5.  6.] | batch y:  [ 10.   4.   3.   6.   5.]\n",
    "Epoch:  2 | Step:  0 | batch x:  [ 3.  9.  2.  6.  7.] | batch y:  [ 8.  2.  9.  5.  4.]\n",
    "Epoch:  2 | Step:  1 | batch x:  [ 10.   4.   8.   1.   5.] | batch y:  [  1.   7.   3.  10.   6.]\n",
    "可以看出, 每步都导出了5个数据进行学习. 然后每个 epoch 的导出数据都是先打乱了以后再导出.\n",
    "\"\"\""
   ]
  },
  {
   "cell_type": "code",
   "execution_count": 3,
   "metadata": {},
   "outputs": [],
   "source": [
    "import torch\n",
    "import torch.nn as nn\n",
    "import torch.utils.data as Data\n",
    "import torchvision      # 数据库模块\n",
    "import matplotlib.pyplot as plt\n",
    "\n",
    "torch.manual_seed(1)    # reproducible\n",
    "\n",
    "# Hyper Parameters\n",
    "EPOCH = 1           # 训练整批数据多少次, 为了节约时间, 我们只训练一次\n",
    "BATCH_SIZE = 50\n",
    "LR = 0.001          # 学习率\n",
    "DOWNLOAD_MNIST = False  # 如果你已经下载好了mnist数据就写上 False\n",
    "\n",
    "\n",
    "# Mnist 手写数字\n",
    "train_data = torchvision.datasets.MNIST(\n",
    "    root='./mnist/',    # 保存或者提取位置\n",
    "    train=True,  # this is training data\n",
    "    transform=torchvision.transforms.ToTensor(),    # 转换 PIL.Image or numpy.ndarray 成\n",
    "                                                    # torch.FloatTensor (C x H x W), 训练的时候 normalize 成 [0.0, 1.0] 区间\n",
    "    download=DOWNLOAD_MNIST,          # 没下载就下载, 下载了就不用再下了\n",
    ")"
   ]
  },
  {
   "cell_type": "code",
   "execution_count": 4,
   "metadata": {},
   "outputs": [],
   "source": [
    "test_data = torchvision.datasets.MNIST(root='./mnist/', train=False)\n",
    "\n",
    "# 批训练 50samples, 1 channel, 28x28 (50, 1, 28, 28)\n",
    "train_loader = Data.DataLoader(dataset=train_data, batch_size=BATCH_SIZE, shuffle=True)\n",
    "\n",
    "# 为了节约时间, 我们测试时只测试前2000个\n",
    "test_x = torch.unsqueeze(test_data.data, dim=1).type(torch.FloatTensor)[:2000]/255.   # shape from (2000, 28, 28) to (2000, 1, 28, 28), value in range(0,1)\n",
    "test_y = test_data.targets[:2000]\n",
    "\n"
   ]
  },
  {
   "cell_type": "code",
   "execution_count": 5,
   "metadata": {},
   "outputs": [
    {
     "name": "stdout",
     "output_type": "stream",
     "text": [
      "<torch.utils.data.dataloader.DataLoader object at 0x104a1c9d0>\n",
      "torch.Size([50, 1, 28, 28])\n",
      "torch.Size([50])\n"
     ]
    }
   ],
   "source": [
    "class CNN(nn.Module):\n",
    "    def __init__(self):\n",
    "        super(CNN, self).__init__()\n",
    "        self.conv1 = nn.Sequential(  # input shape (1, 28, 28)\n",
    "            nn.Conv2d(\n",
    "                in_channels=1,      # input height\n",
    "                out_channels=16,    # n_filters\n",
    "                kernel_size=5,      # filter size\n",
    "                stride=1,           # filter movement/step\n",
    "                padding=2,      # 如果想要 con2d 出来的图片长宽没有变化, padding=(kernel_size-1)/2 当 stride=1\n",
    "            ),      # output shape (16, 28, 28)\n",
    "            nn.ReLU(),    # activation\n",
    "            nn.MaxPool2d(kernel_size=2),    # 在 2x2 空间里向下采样, output shape (16, 14, 14)\n",
    "        )\n",
    "        self.conv2 = nn.Sequential(  # input shape (16, 14, 14)\n",
    "            nn.Conv2d(16, 32, 5, 1, 2),  # output shape (32, 14, 14)\n",
    "            nn.ReLU(),  # activation\n",
    "            nn.MaxPool2d(2),  # output shape (32, 7, 7)\n",
    "        )\n",
    "        self.out = nn.Linear(32 * 7 * 7, 10)   # fully connected layer, output 10 classes\n",
    "\n",
    "    def forward(self, x):\n",
    "        x = self.conv1(x)\n",
    "        x = self.conv2(x)\n",
    "        x = x.view(x.size(0), -1)   # 展平多维的卷积图成 (batch_size, 32 * 7 * 7)\n",
    "        output = self.out(x)\n",
    "        return output\n",
    "\n",
    "cnn = CNN()\n",
    "#print(cnn)  # net architecture\n",
    "print(train_loader)\n",
    "for step, (b_x, b_y) in enumerate(train_loader):   # 分配 batch data, normalize x when iterate train_loader\n",
    "        print(b_x.shape)\n",
    "        output = cnn(b_x) \n",
    "        print(b_y.shape)\n",
    "        # print(output)\n",
    "\n",
    "        break\n",
    "        "
   ]
  },
  {
   "cell_type": "code",
   "execution_count": 10,
   "metadata": {},
   "outputs": [
    {
     "name": "stdout",
     "output_type": "stream",
     "text": [
      "torch.Size([50])\n",
      "tensor([5, 7, 4, 0, 9, 1, 9, 0, 6, 1, 0, 9, 8, 0, 0, 8, 1, 7, 4, 9, 5, 2, 4, 7,\n",
      "        1, 0, 2, 3, 1, 1, 6, 7, 8, 4, 0, 9, 3, 1, 8, 2, 1, 4, 4, 8, 6, 8, 7, 2,\n",
      "        2, 8])\n",
      "torch.Size([50, 10])\n"
     ]
    },
    {
     "data": {
      "text/plain": [
       "'\\n...\\nEpoch:  0 | train loss: 0.0306 | test accuracy: 0.97\\nEpoch:  0 | train loss: 0.0147 | test accuracy: 0.98\\nEpoch:  0 | train loss: 0.0427 | test accuracy: 0.98\\nEpoch:  0 | train loss: 0.0078 | test accuracy: 0.98\\n'"
      ]
     },
     "execution_count": 10,
     "metadata": {},
     "output_type": "execute_result"
    }
   ],
   "source": [
    "optimizer = torch.optim.Adam(cnn.parameters(), lr=LR)   # optimize all cnn parameters\n",
    "loss_func = nn.CrossEntropyLoss()   # the target label is not one-hotted\n",
    "\n",
    "# training and testing\n",
    "for epoch in range(EPOCH):\n",
    "    for step, (b_x, b_y) in enumerate(train_loader):   # 分配 batch data, normalize x when iterate train_loader\n",
    "        output = cnn(b_x)               # cnn output\n",
    "        print(b_y.shape)\n",
    "        print(b_y)\n",
    "        print(output.shape)\n",
    "        loss = loss_func(output, b_y)   # cross entropy loss\n",
    "        optimizer.zero_grad()           # clear gradients for this training step\n",
    "        loss.backward()                 # backpropagation, compute gradients\n",
    "        optimizer.step()                # apply gradients\n",
    "        break\n",
    "\"\"\"\n",
    "...\n",
    "Epoch:  0 | train loss: 0.0306 | test accuracy: 0.97\n",
    "Epoch:  0 | train loss: 0.0147 | test accuracy: 0.98\n",
    "Epoch:  0 | train loss: 0.0427 | test accuracy: 0.98\n",
    "Epoch:  0 | train loss: 0.0078 | test accuracy: 0.98\n",
    "\"\"\""
   ]
  },
  {
   "cell_type": "code",
   "execution_count": null,
   "metadata": {},
   "outputs": [
    {
     "name": "stdout",
     "output_type": "stream",
     "text": [
      "[7 2 1 0 4 1 4 9 5 9] prediction number\n",
      "[7 2 1 0 4 1 4 9 5 9] real number\n"
     ]
    },
    {
     "data": {
      "text/plain": [
       "'\\n[7 2 1 0 4 1 4 9 5 9] prediction number\\n[7 2 1 0 4 1 4 9 5 9] real number\\n'"
      ]
     },
     "execution_count": 6,
     "metadata": {},
     "output_type": "execute_result"
    }
   ],
   "source": [
    "test_output = cnn(test_x[:10])\n",
    "pred_y = torch.max(test_output, 1)[1].data.numpy().squeeze()\n",
    "print(pred_y, 'prediction number')\n",
    "print(test_y[:10].numpy(), 'real number')\n",
    "\n",
    "\"\"\"\n",
    "[7 2 1 0 4 1 4 9 5 9] prediction number\n",
    "[7 2 1 0 4 1 4 9 5 9] real number\n",
    "\"\"\""
   ]
  }
 ],
 "metadata": {
  "kernelspec": {
   "display_name": "Python 3.8.13 ('py38')",
   "language": "python",
   "name": "python3"
  },
  "language_info": {
   "codemirror_mode": {
    "name": "ipython",
    "version": 3
   },
   "file_extension": ".py",
   "mimetype": "text/x-python",
   "name": "python",
   "nbconvert_exporter": "python",
   "pygments_lexer": "ipython3",
   "version": "3.8.13"
  },
  "orig_nbformat": 4,
  "vscode": {
   "interpreter": {
    "hash": "43103ebe49f20780c0555c255a4ff1c6773ce139c9c7300782dfd117b1d10422"
   }
  }
 },
 "nbformat": 4,
 "nbformat_minor": 2
}
