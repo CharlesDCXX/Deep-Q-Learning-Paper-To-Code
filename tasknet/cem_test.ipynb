{
 "cells": [
  {
   "cell_type": "markdown",
   "metadata": {},
   "source": [
    "## 下面是CEM的测试集"
   ]
  },
  {
   "cell_type": "code",
   "execution_count": null,
   "metadata": {},
   "outputs": [
    {
     "name": "stdout",
     "output_type": "stream",
     "text": [
      "[[0 2 3 1 2]\n",
      " [2 3 3 2 0]\n",
      " [0 2 3 0 0]\n",
      " [4 3 1 0 4]\n",
      " [1 2 1 4 2]]\n",
      "[[0 0 0 0 0]\n",
      " [0 0 0 0 0]\n",
      " [0 0 0 0 0]\n",
      " [0 0 0 0 0]\n",
      " [0 0 0 0 0]]\n",
      "[[1, 0, 0], [0, 1, 0], [0, 0, 1], [1, 0, 0], [0, 1, 0], [0, 0, 1], [1, 0, 0], [0, 1, 0], [0, 0, 1], [1, 0, 0], [0, 1, 0], [0, 0, 1], [1, 0, 0], [0, 1, 0], [0, 0, 1], [1, 0, 0], [0, 1, 0], [0, 0, 1], [1, 0, 0], [0, 1, 0], [0, 0, 1], [1, 0, 0], [0, 1, 0], [0, 0, 1], [1, 0, 0], [0, 1, 0], [0, 0, 1], [1, 0, 0], [0, 1, 0], [0, 0, 1], [1, 0, 0], [0, 1, 0], [0, 0, 1], [1, 0, 0], [0, 1, 0], [0, 0, 1], [1, 0, 0], [0, 1, 0], [0, 0, 1], [1, 0, 0], [0, 1, 0], [0, 0, 1], [1, 0, 0], [0, 1, 0], [0, 0, 1], [1, 0, 0], [0, 1, 0], [0, 0, 1], [1, 0, 0], [0, 1, 0], [0, 0, 1], [1, 0, 0], [0, 1, 0], [0, 0, 1], [1, 0, 0], [0, 1, 0], [0, 0, 1]]\n"
     ]
    }
   ],
   "source": [
    "import numpy as np\n",
    "\n",
    "\n",
    "task_depth = 6\n",
    "# 设定cell大小\n",
    "m, n = 5, 5\n",
    "cell_grid_map = np.random.randint(0,5,(m,n))\n",
    "print(cell_grid_map)\n",
    "index = np.argmax(cell_grid_map)\n",
    "x = int(index / n)\n",
    "y = index % n\n",
    "\n",
    "# 挖掘动作空间\n",
    "action_space_approach = [1,0,0]\n",
    "action_space_dig = [0,1,0]\n",
    "action_space_dump = [0,0,1]\n",
    "action_list_cem = []\n",
    "\n",
    "while cell_grid_map[x,y] > task_depth:\n",
    "    cell_grid_map[x,y] = task_depth\n",
    "    action_list_cem.append(action_space_approach)\n",
    "    action_list_cem.append(action_space_dig)\n",
    "    action_list_cem.append(action_space_dump)\n",
    "    index = np.argmax(cell_grid_map)\n",
    "    x = int(index / n)\n",
    "    y = index % n  \n",
    "print(cell_grid_map) \n",
    "print(action_list_cem)\n",
    "\n"
   ]
  },
  {
   "cell_type": "markdown",
   "metadata": {},
   "source": []
  },
  {
   "cell_type": "code",
   "execution_count": 1,
   "metadata": {},
   "outputs": [
    {
     "name": "stdout",
     "output_type": "stream",
     "text": [
      "torch.Size([2, 3])\n",
      "torch.Size([4, 3])\n"
     ]
    }
   ],
   "source": [
    "import numpy as np\n",
    "import torch\n",
    "import torch.nn as nn\n",
    "import torch.utils.data as Data\n",
    "import torchvision      # 数据库模块\n",
    "import matplotlib.pyplot as plt\n",
    "\n",
    "np_data = np.arange(6).reshape((2, 3))\n",
    "torch_data = torch.from_numpy(np_data)\n",
    "torch_data1 = torch.from_numpy(np_data)\n",
    "print(torch_data.shape)\n",
    "test = torch.cat([torch_data,torch_data1],0)\n",
    "print(test.shape)"
   ]
  },
  {
   "cell_type": "code",
   "execution_count": null,
   "metadata": {},
   "outputs": [],
   "source": []
  }
 ],
 "metadata": {
  "kernelspec": {
   "display_name": "Python 3.8.13 ('py38')",
   "language": "python",
   "name": "python3"
  },
  "language_info": {
   "codemirror_mode": {
    "name": "ipython",
    "version": 3
   },
   "file_extension": ".py",
   "mimetype": "text/x-python",
   "name": "python",
   "nbconvert_exporter": "python",
   "pygments_lexer": "ipython3",
   "version": "3.8.13"
  },
  "orig_nbformat": 4,
  "vscode": {
   "interpreter": {
    "hash": "43103ebe49f20780c0555c255a4ff1c6773ce139c9c7300782dfd117b1d10422"
   }
  }
 },
 "nbformat": 4,
 "nbformat_minor": 2
}
