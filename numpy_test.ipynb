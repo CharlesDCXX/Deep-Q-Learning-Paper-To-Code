{
 "cells": [
  {
   "cell_type": "code",
   "execution_count": 29,
   "metadata": {
    "collapsed": true
   },
   "outputs": [],
   "source": [
    "import numpy\n",
    "MAZE_L = 50\n",
    "MAZE_W = 50\n",
    "MAZE_H = 50\n",
    "# 使用nd-array模拟作为点云数据\n",
    "a = 1\n",
    "point_cloud = numpy.ones([MAZE_L, MAZE_W, MAZE_H], dtype=int)"
   ]
  },
  {
   "cell_type": "code",
   "execution_count": 30,
   "metadata": {
    "collapsed": false,
    "pycharm": {
     "name": "#%%\n"
    }
   },
   "outputs": [],
   "source": [
    "import random\n",
    "# 挖掘范围点\n",
    "action_point = []\n",
    "for i in range(MAZE_L):\n",
    "    for j in range(MAZE_W):\n",
    "        action_point.append([i,j])\n",
    "point = random.randint(0,len(action_point))\n"
   ]
  },
  {
   "cell_type": "code",
   "execution_count": 36,
   "metadata": {
    "collapsed": false,
    "pycharm": {
     "name": "#%%\n"
    }
   },
   "outputs": [
    {
     "name": "stdout",
     "output_type": "stream",
     "text": [
      "0 0\n"
     ]
    }
   ],
   "source": [
    "action = 1\n",
    "action_l = action % 20 - 1\n",
    "action_w = action // 20\n",
    "print(action_w,action_l)"
   ]
  },
  {
   "cell_type": "code",
   "execution_count": 38,
   "outputs": [
    {
     "name": "stdout",
     "output_type": "stream",
     "text": [
      "[[[[1 1 1]\n",
      "   [1 1 1]\n",
      "   [1 1 1]]\n",
      "\n",
      "  [[1 1 1]\n",
      "   [1 1 1]\n",
      "   [1 1 1]]\n",
      "\n",
      "  [[1 1 1]\n",
      "   [1 1 1]\n",
      "   [1 1 1]]]]\n"
     ]
    }
   ],
   "source": [
    "import numpy as np\n",
    "s = np.ones([3,3,3],dtype=int)\n",
    "s_ = np.expand_dims(s, axis=0)\n",
    "print(s_)\n"
   ],
   "metadata": {
    "collapsed": false,
    "pycharm": {
     "name": "#%%\n"
    }
   }
  }
 ],
 "metadata": {
  "kernelspec": {
   "display_name": "Python 3.8.13 ('olympics')",
   "language": "python",
   "name": "python3"
  },
  "language_info": {
   "codemirror_mode": {
    "name": "ipython",
    "version": 3
   },
   "file_extension": ".py",
   "mimetype": "text/x-python",
   "name": "python",
   "nbconvert_exporter": "python",
   "pygments_lexer": "ipython3",
   "version": "3.8.13"
  },
  "vscode": {
   "interpreter": {
    "hash": "e1168e7a4faa01177578726a409b5346e0846ab691c5d01b33eca1ba365d52d2"
   }
  }
 },
 "nbformat": 4,
 "nbformat_minor": 0
}